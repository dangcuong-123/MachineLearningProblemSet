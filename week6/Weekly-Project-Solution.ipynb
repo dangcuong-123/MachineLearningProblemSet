{
 "cells": [
  {
   "cell_type": "markdown",
   "metadata": {
    "colab_type": "text",
    "id": "Ps5x-gYUCf9_"
   },
   "source": [
    "# Handwritten Digits Classification"
   ]
  },
  {
   "cell_type": "markdown",
   "metadata": {
    "colab_type": "text",
    "id": "0glR10XBCxNy"
   },
   "source": [
    "## Overview\n",
    "\n",
    "The MNIST database (Modified National Institute of Standards and Technology database) is a large database of handwritten digits that is commonly used for training various image processing systems. MNIST is like the \"Hello World\" of machine learning with which you can try out a few machine learning algorithms.\n",
    "\n",
    "![](https://upload.wikimedia.org/wikipedia/commons/2/27/MnistExamples.png)\n",
    "\n",
    "Each image is 28 pixels in height and 28 pixels in width, for a total of 784 pixels in total. Each pixel has a single pixel-value associated with it, indicating the lightness or darkness of that pixel, with higher numbers meaning lighter. This pixel-value is an integer between 0 and 255, inclusive.\n",
    "\n",
    "Visually, if we omit the \"pixel\" prefix, the pixels make up the image like this:\n",
    "```\n",
    "000 001 002 003 ... 026 027\n",
    "028 029 030 031 ... 054 055\n",
    "056 057 058 059 ... 082 083\n",
    " |   |   |   |  ...  |   |\n",
    "728 729 730 731 ... 754 755\n",
    "756 757 758 759 ... 782 783 \n",
    "```"
   ]
  },
  {
   "cell_type": "markdown",
   "metadata": {
    "colab_type": "text",
    "id": "-3hGXfqVDRna"
   },
   "source": [
    "## Get Data"
   ]
  },
  {
   "cell_type": "code",
   "execution_count": 1,
   "metadata": {
    "colab": {
     "base_uri": "https://localhost:8080/",
     "height": 71
    },
    "colab_type": "code",
    "executionInfo": {
     "elapsed": 1119,
     "status": "ok",
     "timestamp": 1596185842341,
     "user": {
      "displayName": "Minh Do",
      "photoUrl": "https://lh3.googleusercontent.com/a-/AOh14GhnQ6aJ2YnaevyJzhii-qGws6Y17w-cwWLqF5iP=s64",
      "userId": "12822549848477954436"
     },
     "user_tz": -420
    },
    "id": "4IWx_-bBEYAT",
    "outputId": "12b0f595-15a1-40f8-8925-22322593911c"
   },
   "outputs": [],
   "source": [
    "import numpy as np\n",
    "import pandas as pd\n",
    "import seaborn as sns\n",
    "import matplotlib.pyplot as plt\n",
    "%matplotlib inline\n",
    "\n",
    "import warnings\n",
    "warnings.filterwarnings('ignore')\n",
    "\n",
    "sns.set_style(\"whitegrid\")"
   ]
  },
  {
   "cell_type": "code",
   "execution_count": 2,
   "metadata": {
    "colab": {
     "base_uri": "https://localhost:8080/",
     "height": 51
    },
    "colab_type": "code",
    "executionInfo": {
     "elapsed": 3516,
     "status": "ok",
     "timestamp": 1596185844746,
     "user": {
      "displayName": "Minh Do",
      "photoUrl": "https://lh3.googleusercontent.com/a-/AOh14GhnQ6aJ2YnaevyJzhii-qGws6Y17w-cwWLqF5iP=s64",
      "userId": "12822549848477954436"
     },
     "user_tz": -420
    },
    "id": "BNhUbXb9CSbh",
    "outputId": "f1bcde6a-c67e-4241-9aea-349ed947008a"
   },
   "outputs": [
    {
     "name": "stdout",
     "output_type": "stream",
     "text": [
      "Downloading data from https://storage.googleapis.com/tensorflow/tf-keras-datasets/mnist.npz\n",
      "11493376/11490434 [==============================] - 9s 1us/step\n",
      "Training data: (60000, 28, 28) (60000,)\n",
      "Test data: (10000, 28, 28) (10000,)\n"
     ]
    }
   ],
   "source": [
    "from tensorflow.keras.datasets import mnist\n",
    "\n",
    "(X_train, y_train), (X_test, y_test) = mnist.load_data()\n",
    "\n",
    "print('Training data:', X_train.shape, y_train.shape)\n",
    "print('Test data:', X_test.shape, y_test.shape)"
   ]
  },
  {
   "cell_type": "markdown",
   "metadata": {
    "colab_type": "text",
    "id": "VYTtM9VlGs31"
   },
   "source": [
    "## EDA"
   ]
  },
  {
   "cell_type": "code",
   "execution_count": 24,
   "metadata": {
    "colab": {},
    "colab_type": "code",
    "executionInfo": {
     "elapsed": 3510,
     "status": "ok",
     "timestamp": 1596185844747,
     "user": {
      "displayName": "Minh Do",
      "photoUrl": "https://lh3.googleusercontent.com/a-/AOh14GhnQ6aJ2YnaevyJzhii-qGws6Y17w-cwWLqF5iP=s64",
      "userId": "12822549848477954436"
     },
     "user_tz": -420
    },
    "id": "xcZURSKuDcvm"
   },
   "outputs": [],
   "source": [
    "def plot_images(images, labels):\n",
    "    '''Plot images with their labels. Ten each row'''\n",
    "    plt.figure(figsize=(20, 10))\n",
    "    columns = 10\n",
    "    for i, image in enumerate(images):\n",
    "        ax = plt.subplot(len(images) / columns + 1, columns, i + 1)\n",
    "        ax.set_title(f\"{labels[i]}\", fontsize=16)\n",
    "        plt.axis('off')\n",
    "        plt.subplots_adjust(bottom=0.1)\n",
    "        plt.imshow(image, cmap='gray')\n",
    "\n",
    "def get_samples(n_samples, X, y):\n",
    "    '''Get n_samples images randomly'''\n",
    "    samples = np.random.choice(np.arange(len(y)), n_samples, replace=False)\n",
    "    return X[samples], y[samples]\n",
    "\n",
    "def get_digit(digit, n_samples, X, y):\n",
    "    '''Get n_samples images of the class digit randomly'''\n",
    "    y_digit = y[y == digit]\n",
    "    samples = np.random.choice(np.arange(len(y_digit)), n_samples, replace=False)\n",
    "    return X[y == digit][samples], y_digit[samples]"
   ]
  },
  {
   "cell_type": "code",
   "execution_count": 28,
   "metadata": {},
   "outputs": [
    {
     "data": {
      "text/plain": [
       "array([5, 0, 4, ..., 5, 6, 8], dtype=uint8)"
      ]
     },
     "execution_count": 28,
     "metadata": {},
     "output_type": "execute_result"
    }
   ],
   "source": [
    "y_train"
   ]
  },
  {
   "cell_type": "code",
   "execution_count": 26,
   "metadata": {
    "colab": {
     "base_uri": "https://localhost:8080/",
     "height": 330
    },
    "colab_type": "code",
    "executionInfo": {
     "elapsed": 8566,
     "status": "ok",
     "timestamp": 1596185849808,
     "user": {
      "displayName": "Minh Do",
      "photoUrl": "https://lh3.googleusercontent.com/a-/AOh14GhnQ6aJ2YnaevyJzhii-qGws6Y17w-cwWLqF5iP=s64",
      "userId": "12822549848477954436"
     },
     "user_tz": -420
    },
    "id": "OpMe7EMCEF01",
    "outputId": "99c27f04-1dde-45eb-b858-2a9fd68968b1"
   },
   "outputs": [
    {
     "data": {
      "image/png": "[encoded data removed]",
      "text/plain": [
       "<Figure size 1440x720 with 30 Axes>"
      ]
     },
     "metadata": {},
     "output_type": "display_data"
    }
   ],
   "source": [
    "n_samples = 30\n",
    "images, labels = get_samples(n_samples, X_train, y_train)\n",
    "#images, labels = get_digit(1, n_samples, X_train, y_train)\n",
    "plot_images(images, labels)"
   ]
  },
  {
   "cell_type": "markdown",
   "metadata": {
    "colab_type": "text",
    "id": "7Ld_PUJxrzN1"
   },
   "source": [
    "**Plot the barplot of number of images of each class (0 to 9)**"
   ]
  },
  {
   "cell_type": "code",
   "execution_count": 5,
   "metadata": {
    "colab": {
     "base_uri": "https://localhost:8080/",
     "height": 282
    },
    "colab_type": "code",
    "executionInfo": {
     "elapsed": 8559,
     "status": "ok",
     "timestamp": 1596185849809,
     "user": {
      "displayName": "Minh Do",
      "photoUrl": "https://lh3.googleusercontent.com/a-/AOh14GhnQ6aJ2YnaevyJzhii-qGws6Y17w-cwWLqF5iP=s64",
      "userId": "12822549848477954436"
     },
     "user_tz": -420
    },
    "id": "xjVYEat8EJTd",
    "outputId": "01234f05-5b6e-4b20-f53b-dc4d1ea0df93"
   },
   "outputs": [
    {
     "data": {
      "text/plain": [
       "<AxesSubplot:ylabel='count'>"
      ]
     },
     "execution_count": 5,
     "metadata": {},
     "output_type": "execute_result"
    },
    {
     "data": {
      "image/png": "[encoded data removed]",
      "text/plain": [
       "<Figure size 432x288 with 1 Axes>"
      ]
     },
     "metadata": {},
     "output_type": "display_data"
    }
   ],
   "source": [
    "# Your code here\n",
    "sns.countplot(y_test)"
   ]
  },
  {
   "cell_type": "markdown",
   "metadata": {
    "colab_type": "text",
    "id": "7M_TfQZUrzOG"
   },
   "source": [
    "**Print out the range of pixel values (min, max)**"
   ]
  },
  {
   "cell_type": "code",
   "execution_count": 6,
   "metadata": {
    "colab": {
     "base_uri": "https://localhost:8080/",
     "height": 34
    },
    "colab_type": "code",
    "executionInfo": {
     "elapsed": 8551,
     "status": "ok",
     "timestamp": 1596185849809,
     "user": {
      "displayName": "Minh Do",
      "photoUrl": "https://lh3.googleusercontent.com/a-/AOh14GhnQ6aJ2YnaevyJzhii-qGws6Y17w-cwWLqF5iP=s64",
      "userId": "12822549848477954436"
     },
     "user_tz": -420
    },
    "id": "d0rZBlU8FmtE",
    "outputId": "7bb49e85-a1d4-4461-df71-5090ffe75768"
   },
   "outputs": [
    {
     "name": "stdout",
     "output_type": "stream",
     "text": [
      "Pixel value range: 0 255\n"
     ]
    }
   ],
   "source": [
    "# Your code here\n",
    "print('Pixel value range:', X_train.min(), X_train.max())"
   ]
  },
  {
   "cell_type": "markdown",
   "metadata": {
    "colab_type": "text",
    "id": "XC2sFqfcJjQ1"
   },
   "source": [
    "## Transform data for training"
   ]
  },
  {
   "cell_type": "markdown",
   "metadata": {
    "colab_type": "text",
    "id": "6W5AWXE2rzOj"
   },
   "source": [
    "**Get the first `n_samples` images randomly from training set and test set. Then reshape them into long vectors**"
   ]
  },
  {
   "cell_type": "code",
   "execution_count": 7,
   "metadata": {
    "colab": {},
    "colab_type": "code",
    "executionInfo": {
     "elapsed": 8842,
     "status": "ok",
     "timestamp": 1596185850108,
     "user": {
      "displayName": "Minh Do",
      "photoUrl": "https://lh3.googleusercontent.com/a-/AOh14GhnQ6aJ2YnaevyJzhii-qGws6Y17w-cwWLqF5iP=s64",
      "userId": "12822549848477954436"
     },
     "user_tz": -420
    },
    "id": "XF1XGXrvJlri"
   },
   "outputs": [],
   "source": [
    "n_samples = 1000\n",
    "n_test_samples = 200\n",
    "# Your code here\n",
    "X_train_flat, y_train_flat = get_samples(n_samples, X_train, y_train)\n",
    "X_test_flat, y_test_flat = get_samples(n_test_samples, X_test, y_test)\n",
    "\n",
    "# Normalization\n",
    "X_train_flat = X_train_flat.reshape((n_samples, -1))/255\n",
    "X_test_flat = X_test_flat.reshape((n_test_samples, -1))/255"
   ]
  },
  {
   "cell_type": "code",
   "execution_count": 8,
   "metadata": {
    "colab": {
     "base_uri": "https://localhost:8080/",
     "height": 51
    },
    "colab_type": "code",
    "executionInfo": {
     "elapsed": 8837,
     "status": "ok",
     "timestamp": 1596185850109,
     "user": {
      "displayName": "Minh Do",
      "photoUrl": "https://lh3.googleusercontent.com/a-/AOh14GhnQ6aJ2YnaevyJzhii-qGws6Y17w-cwWLqF5iP=s64",
      "userId": "12822549848477954436"
     },
     "user_tz": -420
    },
    "id": "66rNQGgnK1MX",
    "outputId": "f24bd644-775d-4271-fc6f-e459cd274369"
   },
   "outputs": [
    {
     "name": "stdout",
     "output_type": "stream",
     "text": [
      "Training data (1000, 784)\n",
      "Test data (200, 784)\n"
     ]
    }
   ],
   "source": [
    "print('Training data', X_train_flat.shape)\n",
    "print('Test data', X_test_flat.shape)"
   ]
  },
  {
   "cell_type": "code",
   "execution_count": 9,
   "metadata": {
    "colab": {},
    "colab_type": "code",
    "executionInfo": {
     "elapsed": 8829,
     "status": "ok",
     "timestamp": 1596185850109,
     "user": {
      "displayName": "Minh Do",
      "photoUrl": "https://lh3.googleusercontent.com/a-/AOh14GhnQ6aJ2YnaevyJzhii-qGws6Y17w-cwWLqF5iP=s64",
      "userId": "12822549848477954436"
     },
     "user_tz": -420
    },
    "id": "59B4UG39o5N1"
   },
   "outputs": [],
   "source": [
    "# Get all the data\n",
    "# Run it after you finish training with the 1000 samples\n",
    "# X_train_flat = X_train.reshape((-1, 784))\n",
    "# X_test_flat = X_test.reshape((-1, 784))\n",
    "# y_train_flat = y_train\n",
    "# y_test_flat = y_test\n",
    "\n",
    "# print('Training data', X_train_flat.shape)\n",
    "# print('Test data', X_test_flat.shape)\n",
    "# print('Training label', y_train_flat.shape)\n",
    "# print('Test label', y_test_flat.shape)"
   ]
  },
  {
   "cell_type": "markdown",
   "metadata": {
    "colab_type": "text",
    "id": "bmxGMEGGLaJI"
   },
   "source": [
    "## Train models"
   ]
  },
  {
   "cell_type": "code",
   "execution_count": 10,
   "metadata": {
    "colab": {},
    "colab_type": "code",
    "executionInfo": {
     "elapsed": 8821,
     "status": "ok",
     "timestamp": 1596185850110,
     "user": {
      "displayName": "Minh Do",
      "photoUrl": "https://lh3.googleusercontent.com/a-/AOh14GhnQ6aJ2YnaevyJzhii-qGws6Y17w-cwWLqF5iP=s64",
      "userId": "12822549848477954436"
     },
     "user_tz": -420
    },
    "id": "4tJcSPEbLRsh"
   },
   "outputs": [],
   "source": [
    "from sklearn.svm import SVC\n",
    "from sklearn.metrics import confusion_matrix, accuracy_score\n",
    "from sklearn.model_selection import cross_val_score\n",
    "from sklearn.model_selection import GridSearchCV"
   ]
  },
  {
   "cell_type": "markdown",
   "metadata": {
    "colab_type": "text",
    "id": "blM8JAmirzPb"
   },
   "source": [
    "**Train a SVM model**: Set up the training process and train with the small samples of data first before you take the full training dataset to train."
   ]
  },
  {
   "cell_type": "code",
   "execution_count": 11,
   "metadata": {
    "colab": {
     "base_uri": "https://localhost:8080/",
     "height": 85
    },
    "colab_type": "code",
    "executionInfo": {
     "elapsed": 9467,
     "status": "ok",
     "timestamp": 1596185850763,
     "user": {
      "displayName": "Minh Do",
      "photoUrl": "https://lh3.googleusercontent.com/a-/AOh14GhnQ6aJ2YnaevyJzhii-qGws6Y17w-cwWLqF5iP=s64",
      "userId": "12822549848477954436"
     },
     "user_tz": -420
    },
    "id": "CIafedeOrzPe",
    "outputId": "45e56985-e5d3-416d-bf28-16b06af095ef"
   },
   "outputs": [
    {
     "data": {
      "text/plain": [
       "SVC(kernel='linear')"
      ]
     },
     "execution_count": 11,
     "metadata": {},
     "output_type": "execute_result"
    }
   ],
   "source": [
    "# Your code here\n",
    "clf = SVC(kernel='linear')\n",
    "clf.fit(X_train_flat, y_train_flat)"
   ]
  },
  {
   "cell_type": "code",
   "execution_count": 12,
   "metadata": {
    "colab": {
     "base_uri": "https://localhost:8080/",
     "height": 221
    },
    "colab_type": "code",
    "executionInfo": {
     "elapsed": 57459,
     "status": "ok",
     "timestamp": 1596185898759,
     "user": {
      "displayName": "Minh Do",
      "photoUrl": "https://lh3.googleusercontent.com/a-/AOh14GhnQ6aJ2YnaevyJzhii-qGws6Y17w-cwWLqF5iP=s64",
      "userId": "12822549848477954436"
     },
     "user_tz": -420
    },
    "id": "ENUgYnAIv7BA",
    "outputId": "bde0e451-2421-43b5-a10c-2edddbfa2e88"
   },
   "outputs": [
    {
     "data": {
      "text/plain": [
       "GridSearchCV(cv=5, estimator=SVC(), n_jobs=-1,\n",
       "             param_grid={'C': [0.01, 0.1, 1, 10, 100],\n",
       "                         'gamma': [0.0001, 0.001, 0.01]},\n",
       "             scoring='accuracy')"
      ]
     },
     "execution_count": 12,
     "metadata": {},
     "output_type": "execute_result"
    }
   ],
   "source": [
    "parameters = {'gamma': [0.0001, 0.001, 0.01],\n",
    "              'C':[0.01, 0.1, 1, 10, 100]}\n",
    "\n",
    "model = SVC(kernel='rbf')\n",
    "\n",
    "gridsearch_models = GridSearchCV(estimator=model,\n",
    "                                 param_grid=parameters,\n",
    "                                 scoring='accuracy',\n",
    "                                 cv=5, n_jobs=-1)\n",
    "\n",
    "gridsearch_models.fit(X_train_flat, y_train_flat)"
   ]
  },
  {
   "cell_type": "code",
   "execution_count": 13,
   "metadata": {
    "colab": {
     "base_uri": "https://localhost:8080/",
     "height": 1000
    },
    "colab_type": "code",
    "executionInfo": {
     "elapsed": 57455,
     "status": "ok",
     "timestamp": 1596185898760,
     "user": {
      "displayName": "Minh Do",
      "photoUrl": "https://lh3.googleusercontent.com/a-/AOh14GhnQ6aJ2YnaevyJzhii-qGws6Y17w-cwWLqF5iP=s64",
      "userId": "12822549848477954436"
     },
     "user_tz": -420
    },
    "id": "xakJOw-uxZZZ",
    "outputId": "2c980b6c-7eb3-44f6-c0ce-910a736d829c"
   },
   "outputs": [
    {
     "data": {
      "text/html": [
       "<div>\n",
       "<style scoped>\n",
       "    .dataframe tbody tr th:only-of-type {\n",
       "        vertical-align: middle;\n",
       "    }\n",
       "\n",
       "    .dataframe tbody tr th {\n",
       "        vertical-align: top;\n",
       "    }\n",
       "\n",
       "    .dataframe thead th {\n",
       "        text-align: right;\n",
       "    }\n",
       "</style>\n",
       "<table border=\"1\" class=\"dataframe\">\n",
       "  <thead>\n",
       "    <tr style=\"text-align: right;\">\n",
       "      <th></th>\n",
       "      <th>mean_fit_time</th>\n",
       "      <th>std_fit_time</th>\n",
       "      <th>mean_score_time</th>\n",
       "      <th>std_score_time</th>\n",
       "      <th>param_C</th>\n",
       "      <th>param_gamma</th>\n",
       "      <th>params</th>\n",
       "      <th>split0_test_score</th>\n",
       "      <th>split1_test_score</th>\n",
       "      <th>split2_test_score</th>\n",
       "      <th>split3_test_score</th>\n",
       "      <th>split4_test_score</th>\n",
       "      <th>mean_test_score</th>\n",
       "      <th>std_test_score</th>\n",
       "      <th>rank_test_score</th>\n",
       "    </tr>\n",
       "  </thead>\n",
       "  <tbody>\n",
       "    <tr>\n",
       "      <th>0</th>\n",
       "      <td>1.808726</td>\n",
       "      <td>0.022612</td>\n",
       "      <td>0.254766</td>\n",
       "      <td>0.001214</td>\n",
       "      <td>0.01</td>\n",
       "      <td>0.0001</td>\n",
       "      <td>{'C': 0.01, 'gamma': 0.0001}</td>\n",
       "      <td>0.115</td>\n",
       "      <td>0.115</td>\n",
       "      <td>0.200</td>\n",
       "      <td>0.115</td>\n",
       "      <td>0.115</td>\n",
       "      <td>0.132</td>\n",
       "      <td>0.034000</td>\n",
       "      <td>13</td>\n",
       "    </tr>\n",
       "    <tr>\n",
       "      <th>1</th>\n",
       "      <td>1.954495</td>\n",
       "      <td>0.082741</td>\n",
       "      <td>0.288390</td>\n",
       "      <td>0.034286</td>\n",
       "      <td>0.01</td>\n",
       "      <td>0.001</td>\n",
       "      <td>{'C': 0.01, 'gamma': 0.001}</td>\n",
       "      <td>0.115</td>\n",
       "      <td>0.115</td>\n",
       "      <td>0.200</td>\n",
       "      <td>0.115</td>\n",
       "      <td>0.115</td>\n",
       "      <td>0.132</td>\n",
       "      <td>0.034000</td>\n",
       "      <td>13</td>\n",
       "    </tr>\n",
       "    <tr>\n",
       "      <th>2</th>\n",
       "      <td>1.986604</td>\n",
       "      <td>0.142766</td>\n",
       "      <td>0.254094</td>\n",
       "      <td>0.008727</td>\n",
       "      <td>0.01</td>\n",
       "      <td>0.01</td>\n",
       "      <td>{'C': 0.01, 'gamma': 0.01}</td>\n",
       "      <td>0.115</td>\n",
       "      <td>0.115</td>\n",
       "      <td>0.215</td>\n",
       "      <td>0.115</td>\n",
       "      <td>0.115</td>\n",
       "      <td>0.135</td>\n",
       "      <td>0.040000</td>\n",
       "      <td>11</td>\n",
       "    </tr>\n",
       "    <tr>\n",
       "      <th>3</th>\n",
       "      <td>2.082071</td>\n",
       "      <td>0.221403</td>\n",
       "      <td>0.337669</td>\n",
       "      <td>0.060815</td>\n",
       "      <td>0.1</td>\n",
       "      <td>0.0001</td>\n",
       "      <td>{'C': 0.1, 'gamma': 0.0001}</td>\n",
       "      <td>0.115</td>\n",
       "      <td>0.115</td>\n",
       "      <td>0.200</td>\n",
       "      <td>0.115</td>\n",
       "      <td>0.115</td>\n",
       "      <td>0.132</td>\n",
       "      <td>0.034000</td>\n",
       "      <td>13</td>\n",
       "    </tr>\n",
       "    <tr>\n",
       "      <th>4</th>\n",
       "      <td>2.606529</td>\n",
       "      <td>0.219926</td>\n",
       "      <td>0.318719</td>\n",
       "      <td>0.058877</td>\n",
       "      <td>0.1</td>\n",
       "      <td>0.001</td>\n",
       "      <td>{'C': 0.1, 'gamma': 0.001}</td>\n",
       "      <td>0.120</td>\n",
       "      <td>0.115</td>\n",
       "      <td>0.200</td>\n",
       "      <td>0.115</td>\n",
       "      <td>0.115</td>\n",
       "      <td>0.133</td>\n",
       "      <td>0.033556</td>\n",
       "      <td>12</td>\n",
       "    </tr>\n",
       "    <tr>\n",
       "      <th>5</th>\n",
       "      <td>2.069829</td>\n",
       "      <td>0.100985</td>\n",
       "      <td>0.290967</td>\n",
       "      <td>0.044180</td>\n",
       "      <td>0.1</td>\n",
       "      <td>0.01</td>\n",
       "      <td>{'C': 0.1, 'gamma': 0.01}</td>\n",
       "      <td>0.655</td>\n",
       "      <td>0.670</td>\n",
       "      <td>0.650</td>\n",
       "      <td>0.625</td>\n",
       "      <td>0.665</td>\n",
       "      <td>0.653</td>\n",
       "      <td>0.015684</td>\n",
       "      <td>9</td>\n",
       "    </tr>\n",
       "    <tr>\n",
       "      <th>6</th>\n",
       "      <td>2.263986</td>\n",
       "      <td>0.193480</td>\n",
       "      <td>0.333530</td>\n",
       "      <td>0.043073</td>\n",
       "      <td>1</td>\n",
       "      <td>0.0001</td>\n",
       "      <td>{'C': 1, 'gamma': 0.0001}</td>\n",
       "      <td>0.150</td>\n",
       "      <td>0.125</td>\n",
       "      <td>0.200</td>\n",
       "      <td>0.175</td>\n",
       "      <td>0.180</td>\n",
       "      <td>0.166</td>\n",
       "      <td>0.025962</td>\n",
       "      <td>10</td>\n",
       "    </tr>\n",
       "    <tr>\n",
       "      <th>7</th>\n",
       "      <td>1.727998</td>\n",
       "      <td>0.196377</td>\n",
       "      <td>0.265355</td>\n",
       "      <td>0.026784</td>\n",
       "      <td>1</td>\n",
       "      <td>0.001</td>\n",
       "      <td>{'C': 1, 'gamma': 0.001}</td>\n",
       "      <td>0.810</td>\n",
       "      <td>0.800</td>\n",
       "      <td>0.775</td>\n",
       "      <td>0.755</td>\n",
       "      <td>0.800</td>\n",
       "      <td>0.788</td>\n",
       "      <td>0.020149</td>\n",
       "      <td>8</td>\n",
       "    </tr>\n",
       "    <tr>\n",
       "      <th>8</th>\n",
       "      <td>0.988673</td>\n",
       "      <td>0.094593</td>\n",
       "      <td>0.198756</td>\n",
       "      <td>0.008530</td>\n",
       "      <td>1</td>\n",
       "      <td>0.01</td>\n",
       "      <td>{'C': 1, 'gamma': 0.01}</td>\n",
       "      <td>0.925</td>\n",
       "      <td>0.920</td>\n",
       "      <td>0.855</td>\n",
       "      <td>0.905</td>\n",
       "      <td>0.910</td>\n",
       "      <td>0.903</td>\n",
       "      <td>0.025020</td>\n",
       "      <td>3</td>\n",
       "    </tr>\n",
       "    <tr>\n",
       "      <th>9</th>\n",
       "      <td>1.323048</td>\n",
       "      <td>0.041628</td>\n",
       "      <td>0.233956</td>\n",
       "      <td>0.006692</td>\n",
       "      <td>10</td>\n",
       "      <td>0.0001</td>\n",
       "      <td>{'C': 10, 'gamma': 0.0001}</td>\n",
       "      <td>0.820</td>\n",
       "      <td>0.820</td>\n",
       "      <td>0.775</td>\n",
       "      <td>0.760</td>\n",
       "      <td>0.785</td>\n",
       "      <td>0.792</td>\n",
       "      <td>0.024207</td>\n",
       "      <td>7</td>\n",
       "    </tr>\n",
       "    <tr>\n",
       "      <th>10</th>\n",
       "      <td>0.687083</td>\n",
       "      <td>0.015710</td>\n",
       "      <td>0.178283</td>\n",
       "      <td>0.009559</td>\n",
       "      <td>10</td>\n",
       "      <td>0.001</td>\n",
       "      <td>{'C': 10, 'gamma': 0.001}</td>\n",
       "      <td>0.890</td>\n",
       "      <td>0.925</td>\n",
       "      <td>0.855</td>\n",
       "      <td>0.885</td>\n",
       "      <td>0.890</td>\n",
       "      <td>0.889</td>\n",
       "      <td>0.022226</td>\n",
       "      <td>4</td>\n",
       "    </tr>\n",
       "    <tr>\n",
       "      <th>11</th>\n",
       "      <td>0.927279</td>\n",
       "      <td>0.027924</td>\n",
       "      <td>0.200247</td>\n",
       "      <td>0.023074</td>\n",
       "      <td>10</td>\n",
       "      <td>0.01</td>\n",
       "      <td>{'C': 10, 'gamma': 0.01}</td>\n",
       "      <td>0.930</td>\n",
       "      <td>0.930</td>\n",
       "      <td>0.875</td>\n",
       "      <td>0.910</td>\n",
       "      <td>0.930</td>\n",
       "      <td>0.915</td>\n",
       "      <td>0.021448</td>\n",
       "      <td>1</td>\n",
       "    </tr>\n",
       "    <tr>\n",
       "      <th>12</th>\n",
       "      <td>0.734244</td>\n",
       "      <td>0.054055</td>\n",
       "      <td>0.202102</td>\n",
       "      <td>0.035085</td>\n",
       "      <td>100</td>\n",
       "      <td>0.0001</td>\n",
       "      <td>{'C': 100, 'gamma': 0.0001}</td>\n",
       "      <td>0.885</td>\n",
       "      <td>0.925</td>\n",
       "      <td>0.855</td>\n",
       "      <td>0.885</td>\n",
       "      <td>0.890</td>\n",
       "      <td>0.888</td>\n",
       "      <td>0.022271</td>\n",
       "      <td>5</td>\n",
       "    </tr>\n",
       "    <tr>\n",
       "      <th>13</th>\n",
       "      <td>0.591664</td>\n",
       "      <td>0.015547</td>\n",
       "      <td>0.167693</td>\n",
       "      <td>0.008659</td>\n",
       "      <td>100</td>\n",
       "      <td>0.001</td>\n",
       "      <td>{'C': 100, 'gamma': 0.001}</td>\n",
       "      <td>0.905</td>\n",
       "      <td>0.905</td>\n",
       "      <td>0.845</td>\n",
       "      <td>0.890</td>\n",
       "      <td>0.880</td>\n",
       "      <td>0.885</td>\n",
       "      <td>0.022136</td>\n",
       "      <td>6</td>\n",
       "    </tr>\n",
       "    <tr>\n",
       "      <th>14</th>\n",
       "      <td>0.879501</td>\n",
       "      <td>0.075111</td>\n",
       "      <td>0.175946</td>\n",
       "      <td>0.038335</td>\n",
       "      <td>100</td>\n",
       "      <td>0.01</td>\n",
       "      <td>{'C': 100, 'gamma': 0.01}</td>\n",
       "      <td>0.930</td>\n",
       "      <td>0.930</td>\n",
       "      <td>0.875</td>\n",
       "      <td>0.910</td>\n",
       "      <td>0.930</td>\n",
       "      <td>0.915</td>\n",
       "      <td>0.021448</td>\n",
       "      <td>1</td>\n",
       "    </tr>\n",
       "  </tbody>\n",
       "</table>\n",
       "</div>"
      ],
      "text/plain": [
       "    mean_fit_time  std_fit_time  mean_score_time  std_score_time param_C  \\\n",
       "0        1.808726      0.022612         0.254766        0.001214    0.01   \n",
       "1        1.954495      0.082741         0.288390        0.034286    0.01   \n",
       "2        1.986604      0.142766         0.254094        0.008727    0.01   \n",
       "3        2.082071      0.221403         0.337669        0.060815     0.1   \n",
       "4        2.606529      0.219926         0.318719        0.058877     0.1   \n",
       "5        2.069829      0.100985         0.290967        0.044180     0.1   \n",
       "6        2.263986      0.193480         0.333530        0.043073       1   \n",
       "7        1.727998      0.196377         0.265355        0.026784       1   \n",
       "8        0.988673      0.094593         0.198756        0.008530       1   \n",
       "9        1.323048      0.041628         0.233956        0.006692      10   \n",
       "10       0.687083      0.015710         0.178283        0.009559      10   \n",
       "11       0.927279      0.027924         0.200247        0.023074      10   \n",
       "12       0.734244      0.054055         0.202102        0.035085     100   \n",
       "13       0.591664      0.015547         0.167693        0.008659     100   \n",
       "14       0.879501      0.075111         0.175946        0.038335     100   \n",
       "\n",
       "   param_gamma                        params  split0_test_score  \\\n",
       "0       0.0001  {'C': 0.01, 'gamma': 0.0001}              0.115   \n",
       "1        0.001   {'C': 0.01, 'gamma': 0.001}              0.115   \n",
       "2         0.01    {'C': 0.01, 'gamma': 0.01}              0.115   \n",
       "3       0.0001   {'C': 0.1, 'gamma': 0.0001}              0.115   \n",
       "4        0.001    {'C': 0.1, 'gamma': 0.001}              0.120   \n",
       "5         0.01     {'C': 0.1, 'gamma': 0.01}              0.655   \n",
       "6       0.0001     {'C': 1, 'gamma': 0.0001}              0.150   \n",
       "7        0.001      {'C': 1, 'gamma': 0.001}              0.810   \n",
       "8         0.01       {'C': 1, 'gamma': 0.01}              0.925   \n",
       "9       0.0001    {'C': 10, 'gamma': 0.0001}              0.820   \n",
       "10       0.001     {'C': 10, 'gamma': 0.001}              0.890   \n",
       "11        0.01      {'C': 10, 'gamma': 0.01}              0.930   \n",
       "12      0.0001   {'C': 100, 'gamma': 0.0001}              0.885   \n",
       "13       0.001    {'C': 100, 'gamma': 0.001}              0.905   \n",
       "14        0.01     {'C': 100, 'gamma': 0.01}              0.930   \n",
       "\n",
       "    split1_test_score  split2_test_score  split3_test_score  \\\n",
       "0               0.115              0.200              0.115   \n",
       "1               0.115              0.200              0.115   \n",
       "2               0.115              0.215              0.115   \n",
       "3               0.115              0.200              0.115   \n",
       "4               0.115              0.200              0.115   \n",
       "5               0.670              0.650              0.625   \n",
       "6               0.125              0.200              0.175   \n",
       "7               0.800              0.775              0.755   \n",
       "8               0.920              0.855              0.905   \n",
       "9               0.820              0.775              0.760   \n",
       "10              0.925              0.855              0.885   \n",
       "11              0.930              0.875              0.910   \n",
       "12              0.925              0.855              0.885   \n",
       "13              0.905              0.845              0.890   \n",
       "14              0.930              0.875              0.910   \n",
       "\n",
       "    split4_test_score  mean_test_score  std_test_score  rank_test_score  \n",
       "0               0.115            0.132        0.034000               13  \n",
       "1               0.115            0.132        0.034000               13  \n",
       "2               0.115            0.135        0.040000               11  \n",
       "3               0.115            0.132        0.034000               13  \n",
       "4               0.115            0.133        0.033556               12  \n",
       "5               0.665            0.653        0.015684                9  \n",
       "6               0.180            0.166        0.025962               10  \n",
       "7               0.800            0.788        0.020149                8  \n",
       "8               0.910            0.903        0.025020                3  \n",
       "9               0.785            0.792        0.024207                7  \n",
       "10              0.890            0.889        0.022226                4  \n",
       "11              0.930            0.915        0.021448                1  \n",
       "12              0.890            0.888        0.022271                5  \n",
       "13              0.880            0.885        0.022136                6  \n",
       "14              0.930            0.915        0.021448                1  "
      ]
     },
     "execution_count": 13,
     "metadata": {},
     "output_type": "execute_result"
    }
   ],
   "source": [
    "pd.DataFrame(gridsearch_models.cv_results_)"
   ]
  },
  {
   "cell_type": "code",
   "execution_count": 14,
   "metadata": {
    "colab": {
     "base_uri": "https://localhost:8080/",
     "height": 51
    },
    "colab_type": "code",
    "executionInfo": {
     "elapsed": 57450,
     "status": "ok",
     "timestamp": 1596185898760,
     "user": {
      "displayName": "Minh Do",
      "photoUrl": "https://lh3.googleusercontent.com/a-/AOh14GhnQ6aJ2YnaevyJzhii-qGws6Y17w-cwWLqF5iP=s64",
      "userId": "12822549848477954436"
     },
     "user_tz": -420
    },
    "id": "DtTjXahsxpgh",
    "outputId": "bfab6544-2532-4981-db5f-e4f4090fdb8a"
   },
   "outputs": [
    {
     "name": "stdout",
     "output_type": "stream",
     "text": [
      "Best params {'C': 10, 'gamma': 0.01}\n",
      "Best score 0.915\n"
     ]
    }
   ],
   "source": [
    "print('Best params', gridsearch_models.best_params_)\n",
    "print('Best score', gridsearch_models.best_score_)"
   ]
  },
  {
   "cell_type": "code",
   "execution_count": 15,
   "metadata": {
    "colab": {},
    "colab_type": "code",
    "executionInfo": {
     "elapsed": 57447,
     "status": "ok",
     "timestamp": 1596185898761,
     "user": {
      "displayName": "Minh Do",
      "photoUrl": "https://lh3.googleusercontent.com/a-/AOh14GhnQ6aJ2YnaevyJzhii-qGws6Y17w-cwWLqF5iP=s64",
      "userId": "12822549848477954436"
     },
     "user_tz": -420
    },
    "id": "yYoBam-Mx0xF"
   },
   "outputs": [],
   "source": [
    "best_model = gridsearch_models.best_estimator_"
   ]
  },
  {
   "cell_type": "markdown",
   "metadata": {
    "colab_type": "text",
    "id": "rupa4m2jX5rm"
   },
   "source": [
    "## Evaluation"
   ]
  },
  {
   "cell_type": "markdown",
   "metadata": {
    "colab_type": "text",
    "id": "UBh0Et0erzPs"
   },
   "source": [
    "**Get the predictions on test data**"
   ]
  },
  {
   "cell_type": "code",
   "execution_count": 16,
   "metadata": {
    "colab": {
     "base_uri": "https://localhost:8080/",
     "height": 34
    },
    "colab_type": "code",
    "executionInfo": {
     "elapsed": 57442,
     "status": "ok",
     "timestamp": 1596185898761,
     "user": {
      "displayName": "Minh Do",
      "photoUrl": "https://lh3.googleusercontent.com/a-/AOh14GhnQ6aJ2YnaevyJzhii-qGws6Y17w-cwWLqF5iP=s64",
      "userId": "12822549848477954436"
     },
     "user_tz": -420
    },
    "id": "1rwL5VCIX9qi",
    "outputId": "ee6753d4-bcbb-414a-9329-9fd4390d0c5b"
   },
   "outputs": [
    {
     "name": "stdout",
     "output_type": "stream",
     "text": [
      "Accuracy Score: 0.955\n"
     ]
    }
   ],
   "source": [
    "# Your code here\n",
    "predictions = best_model.predict(X_test_flat)\n",
    "print('Accuracy Score:', accuracy_score(y_test_flat, predictions))"
   ]
  },
  {
   "cell_type": "markdown",
   "metadata": {
    "colab_type": "text",
    "id": "su0pvdthrzP9"
   },
   "source": [
    "**Plot the confusion matrix in form of a heatmap**"
   ]
  },
  {
   "cell_type": "code",
   "execution_count": 17,
   "metadata": {
    "colab": {
     "base_uri": "https://localhost:8080/",
     "height": 612
    },
    "colab_type": "code",
    "executionInfo": {
     "elapsed": 58345,
     "status": "ok",
     "timestamp": 1596185899669,
     "user": {
      "displayName": "Minh Do",
      "photoUrl": "https://lh3.googleusercontent.com/a-/AOh14GhnQ6aJ2YnaevyJzhii-qGws6Y17w-cwWLqF5iP=s64",
      "userId": "12822549848477954436"
     },
     "user_tz": -420
    },
    "id": "2RyKjfmHX7SN",
    "outputId": "1ea94ede-a9f6-4056-f338-da6d503bd411"
   },
   "outputs": [
    {
     "data": {
      "image/png": "[encoded data removed]",
      "text/plain": [
       "<Figure size 720x720 with 2 Axes>"
      ]
     },
     "metadata": {},
     "output_type": "display_data"
    }
   ],
   "source": [
    "# Your code here\n",
    "plt.figure(figsize=(10,10))\n",
    "sns.heatmap(confusion_matrix(y_test_flat, predictions), cmap=\"YlGnBu\", annot=True, fmt=\"d\")\n",
    "plt.title(f'Accuracy score: {accuracy_score(y_test_flat, predictions)}', fontsize=20)\n",
    "plt.show()"
   ]
  },
  {
   "cell_type": "markdown",
   "metadata": {
    "colab_type": "text",
    "id": "mpMUVV4VrzQP"
   },
   "source": [
    "**Plot the samples that the model predicts incorrectly**"
   ]
  },
  {
   "cell_type": "code",
   "execution_count": 18,
   "metadata": {
    "colab": {
     "base_uri": "https://localhost:8080/",
     "height": 340
    },
    "colab_type": "code",
    "executionInfo": {
     "elapsed": 60770,
     "status": "ok",
     "timestamp": 1596185902099,
     "user": {
      "displayName": "Minh Do",
      "photoUrl": "https://lh3.googleusercontent.com/a-/AOh14GhnQ6aJ2YnaevyJzhii-qGws6Y17w-cwWLqF5iP=s64",
      "userId": "12822549848477954436"
     },
     "user_tz": -420
    },
    "id": "-_uUXSpazDLu",
    "outputId": "ef159f84-a6a2-469b-9e3a-94ac185e65da"
   },
   "outputs": [
    {
     "data": {
      "image/png": "[encoded data removed]",
      "text/plain": [
       "<Figure size 1440x720 with 9 Axes>"
      ]
     },
     "metadata": {},
     "output_type": "display_data"
    }
   ],
   "source": [
    "# Your code here\n",
    "wrong_predicted_images = X_test_flat[y_test_flat != predictions].reshape((-1, 28, 28))\n",
    "wrong_predictions = predictions[y_test_flat != predictions]\n",
    "\n",
    "plot_images(wrong_predicted_images, wrong_predictions)"
   ]
  },
  {
   "cell_type": "markdown",
   "metadata": {
    "colab_type": "text",
    "id": "Y8O1Hh7LYNjP"
   },
   "source": [
    "## Save model"
   ]
  },
  {
   "cell_type": "code",
   "execution_count": 19,
   "metadata": {
    "colab": {},
    "colab_type": "code",
    "executionInfo": {
     "elapsed": 60766,
     "status": "ok",
     "timestamp": 1596185902100,
     "user": {
      "displayName": "Minh Do",
      "photoUrl": "https://lh3.googleusercontent.com/a-/AOh14GhnQ6aJ2YnaevyJzhii-qGws6Y17w-cwWLqF5iP=s64",
      "userId": "12822549848477954436"
     },
     "user_tz": -420
    },
    "id": "C7cNiWsLYPTE"
   },
   "outputs": [],
   "source": [
    "import pickle\n",
    "\n",
    "pickle.dump(clf, open('svm_mnist.pkl', 'wb'))"
   ]
  },
  {
   "cell_type": "markdown",
   "metadata": {
    "colab_type": "text",
    "id": "5B-g57XIYuH0"
   },
   "source": [
    "**Re-load model for testing**"
   ]
  },
  {
   "cell_type": "code",
   "execution_count": 20,
   "metadata": {
    "colab": {
     "base_uri": "https://localhost:8080/",
     "height": 34
    },
    "colab_type": "code",
    "executionInfo": {
     "elapsed": 60762,
     "status": "ok",
     "timestamp": 1596185902101,
     "user": {
      "displayName": "Minh Do",
      "photoUrl": "https://lh3.googleusercontent.com/a-/AOh14GhnQ6aJ2YnaevyJzhii-qGws6Y17w-cwWLqF5iP=s64",
      "userId": "12822549848477954436"
     },
     "user_tz": -420
    },
    "id": "WDsYcxfzYd8F",
    "outputId": "72b133ed-96a4-4158-b704-3cf4e3ca7984"
   },
   "outputs": [
    {
     "name": "stdout",
     "output_type": "stream",
     "text": [
      "Accuracy score: 0.93\n"
     ]
    }
   ],
   "source": [
    "# Your code here\n",
    "with open('svm_mnist.pkl', 'rb') as model:\n",
    "    reload_model = pickle.load(model)\n",
    "\n",
    "predictions = reload_model.predict(X_test_flat)\n",
    "print(f'Accuracy score: {accuracy_score(y_test_flat, predictions)}')"
   ]
  },
  {
   "cell_type": "markdown",
   "metadata": {
    "colab_type": "text",
    "id": "1BVyCBz2m0Lz"
   },
   "source": [
    "## Embedding the model into a web application"
   ]
  },
  {
   "cell_type": "markdown",
   "metadata": {
    "colab_type": "text",
    "id": "0Y2hes6WnfxV"
   },
   "source": [
    "### Project structure\n",
    "\n",
    "* Clone the files of the repository\n",
    "\n",
    "```bash\n",
    "git clone https://github.com/dhminh1024/flask_doc.git\n",
    "```\n",
    "\n",
    "* Change directory\n",
    "\n",
    "```bash\n",
    "cd flask_doc\n",
    "```\n",
    "\n",
    "* Create the following folders and files\n",
    "\n",
    "|-app/\n",
    "    |-templates/\n",
    "        |-base.html\n",
    "    |-static/\n",
    "        |-js/\n",
    "            |-index.js\n",
    "        |-css/\n",
    "            |-style.css\n",
    "        |-images/\n",
    "    |-blueprints/\n",
    "        |-__ init__.py\n",
    "    |-middlewares/\n",
    "    |-models/\n",
    "    |-main.py\n",
    "\n",
    "```bash\n",
    "mkdir app app/templates app/static app/static/js app/static/css app/static/images app/blueprints app/middlewares app/models\n",
    "touch app/main.py app/templates/base.html app/static/js/index.js app/static/css/style.css\n",
    "touch app/blueprints/__init__.py\n",
    "```\n",
    "\n",
    "* Add jquery (optional)\n",
    "\n",
    "```bash\n",
    "mv ./jquery-3.4.1.min.js app/static/js/\n",
    "```\n",
    "\n",
    "* Add Canvas (optional)\n",
    "\n",
    "```bash\n",
    "mv ./index.js app/static/js/index.js\n",
    "```\n",
    "\n",
    "* Add Coderschool logo (optional)\n",
    "\n",
    "```bash\n",
    "mv ./images/coderschool-logo.png app/static/images/\n",
    "```\n",
    "\n",
    "* Add this code in **app/main.py**\n",
    "\n",
    "```python\n",
    "from flask import Flask, render_template\n",
    "from blueprints import *\n",
    "\n",
    "app = Flask(__name__)\n",
    "app.register_blueprint(home)\n",
    "\n",
    "if __name__ == '__main__':\n",
    "  app.run(host='127.0.0.1', port=5000, debug=True)\n",
    "```\n",
    "> *Hints: most of this code can be automaticaly generated with a VSCode Extension called flask-snippets by only writting \"fapp\"*\n",
    "> ![](https://i.imgur.com/npmdsha.png=500x)"
   ]
  },
  {
   "cell_type": "markdown",
   "metadata": {
    "colab_type": "text",
    "id": "oK1kJUy5rzRK"
   },
   "source": [
    "### Generating a new blueprint of our Flask app\n",
    "\n",
    "> A blueprint is a template for generating a \"section\" of our Flask app\n",
    "\n",
    "* In **flask_doc** directory, run this code in the **Terminal**\n",
    "\n",
    "```bash\n",
    "export NEW_BLUEPRINT=home\n",
    "mkdir app/blueprints/$NEW_BLUEPRINT\n",
    "touch app/blueprints/$NEW_BLUEPRINT/__init__.py app/blueprints/$NEW_BLUEPRINT/blueprint.py\n",
    "echo \"from .$NEW_BLUEPRINT import $NEW_BLUEPRINT\" >> app/blueprints/__init__.py\n",
    "echo \"from .blueprint import $NEW_BLUEPRINT\" > app/blueprints/$NEW_BLUEPRINT/__init__.py\n",
    "printf \\\n",
    "\"from flask import Blueprint, render_template, request\\n\\\n",
    "\\n\\\n",
    "$NEW_BLUEPRINT = Blueprint('$NEW_BLUEPRINT', __name__)\\\n",
    "\\n\\\n",
    "@$NEW_BLUEPRINT.route('/home')\\n\\\n",
    "def route_name():\\n\\\n",
    "    return render_template('$NEW_BLUEPRINT.html') \\n\\\n",
    "\" > app/blueprints/$NEW_BLUEPRINT/blueprint.py\n",
    "cp ./sample_page.html app/templates/$NEW_BLUEPRINT.html\n",
    "```\n",
    "> Hints: change 'home' to make a new blueprint (line 1 & 14)"
   ]
  },
  {
   "cell_type": "markdown",
   "metadata": {
    "colab_type": "text",
    "id": "57kzglW3rzRN"
   },
   "source": [
    "### HTML Template\n",
    "\n",
    "* Add this code in **app/templates/base.html**\n",
    "\n",
    "```html\n",
    "<!doctype html>\n",
    "<html lang=\"en\">\n",
    "  <head>\n",
    "    <title>Title</title>\n",
    "    <!-- Required meta tags -->\n",
    "    <meta charset=\"utf-8\">\n",
    "    <meta name=\"viewport\" content=\"width=device-width, initial-scale=1, shrink-to-fit=no\">\n",
    "\n",
    "    <!-- Bootstrap CSS -->\n",
    "    <link rel=\"stylesheet\" href=\"https://stackpath.bootstrapcdn.com/bootstrap/4.3.1/css/bootstrap.min.css\" integrity=\"sha384-ggOyR0iXCbMQv3Xipma34MD+dH/1fQ784/j6cY/iJTQUOhcWr7x9JvoRxT2MZw1T\" crossorigin=\"anonymous\">\n",
    "    <!-- CSS -->\n",
    "    <link href=\"static/css/style.css\" rel=\"stylesheet\">\n",
    "</head>\n",
    "  <body class=\"text-center\">\n",
    "    {% block content%} {% endblock %} \n",
    "    \n",
    "    <script src=\"static/js/jquery-3.4.1.min.js\"></script>\n",
    "    <script src=\"static/js/index.js\"></script>\n",
    "    <!-- AJAX optional -->\n",
    "    <script type=\"text/javascript\">\n",
    "        $(\"#myButton\").click(function(){\n",
    "            $('#result').text('  Predicting...');\n",
    "            var $SCRIPT_ROOT = {{request.script_root|tojson|safe}};\n",
    "            var canvasObj = document.getElementById(\"canvas\");\n",
    "            var img = canvasObj.toDataURL('image/jpeg');\n",
    "            $.ajax({\n",
    "                type: \"POST\",\n",
    "                url: $SCRIPT_ROOT + \"/upload/\",\n",
    "                data: img,\n",
    "                success: function(data){\n",
    "                    $('#result').text('Predictions ' + data);\n",
    "                }\n",
    "            });\n",
    "        });\n",
    "    </script>\n",
    "  </body>\n",
    "</html>\n",
    "```\n",
    "\n",
    "> *Hints: most of this code can be automaticaly generated with VSCode Extensions called Bootstrap 4, Font awesome 4, Font Awesome 5 Free & Pro snippets by only writting \"b4-$\"*"
   ]
  },
  {
   "cell_type": "markdown",
   "metadata": {
    "colab_type": "text",
    "id": "UBe_IHzKrzRP"
   },
   "source": [
    "### Run the app\n",
    "\n",
    "* Change directory\n",
    "\n",
    "```bash\n",
    "cd app\n",
    "```\n",
    "\n",
    "* Run the app\n",
    "\n",
    "```bash\n",
    "python main.py\n",
    "```\n",
    "\n",
    "Congratulation, you have just created your Flask app. Here is the link of your Flask app: http://127.0.0.1:5000/home\n",
    "\n",
    "### Html for MNIST example\n",
    "\n",
    "* Replace the code of **app/templates/home.html** by this code \n",
    "\n",
    "```html\n",
    "{% extends \"base.html\" %} {% block content %}\n",
    "<div style=\"margin-top:50px\">\n",
    "  <img class=\"mb-4\" src=\"static/images/coderschool-logo.png\" alt=\"\" />\n",
    "  <h1 class=\"h3 mb-3 font-weight-normal\">Please draw a number</h1>\n",
    "\n",
    "  <canvas id=\"canvas\" width=\"400\" height=\"400\"></canvas>\n",
    "\n",
    "  <h1 class=\"h3 mb-3 font-weight-normal\" id=\"result\">Predictions:</h1>\n",
    "\n",
    "  <button id=\"myButton\" class=\"btn  btn-primary \" type=\"submit\">\n",
    "    Predict\n",
    "  </button>\n",
    "  <button id=\"clearButton\" class=\"btn btn-success\" type=\"submit\">\n",
    "    Clear\n",
    "  </button>\n",
    "\n",
    "  <p class=\"mt-5 mb-3 text-muted\">&copy; CoderSchool</p>\n",
    "</div>\n",
    "{% endblock %}\n",
    "\n",
    "```\n",
    "\n",
    "### Python for MNIST example\n",
    "\n",
    "* In **flask_doc** directory, run this code to generate the blueprint related to upload\n",
    "\n",
    "```bash\n",
    "export NEW_BLUEPRINT=upload_api\n",
    "mkdir app/blueprints/$NEW_BLUEPRINT\n",
    "touch app/blueprints/$NEW_BLUEPRINT/__init__.py app/blueprints/$NEW_BLUEPRINT/blueprint.py\n",
    "echo \"from .$NEW_BLUEPRINT import $NEW_BLUEPRINT\" >> app/blueprints/__init__.py\n",
    "echo \"from .blueprint import $NEW_BLUEPRINT\" > app/blueprints/$NEW_BLUEPRINT/__init__.py\n",
    "printf \\\n",
    "\"from flask import Blueprint, render_template, request\\n\\\n",
    "\\n\\\n",
    "$NEW_BLUEPRINT = Blueprint('$NEW_BLUEPRINT', __name__)\\\n",
    "\\n\\\n",
    "@$NEW_BLUEPRINT.route('/upload_api')\\n\\\n",
    "def route_name():\\n\\\n",
    "    return render_template('$NEW_BLUEPRINT.html') \\n\\\n",
    "\" > app/blueprints/$NEW_BLUEPRINT/blueprint.py\n",
    "cp ./sample_page.html app/templates/$NEW_BLUEPRINT.html\n",
    "```\n",
    "\n",
    "\n",
    "* Replace the code of **app/blueprints/upload_api/blueprint.py** by this code\n",
    "\n",
    "```python\n",
    "from flask import Blueprint, render_template, request\n",
    "import re\n",
    "import base64\n",
    "import numpy as np\n",
    "import pickle\n",
    "from skimage import io, color, transform\n",
    "import matplotlib.pyplot as plt\n",
    "\n",
    " \n",
    "def parse_image(imgData):\n",
    "    img_str = re.search(b\"base64,(.*)\", imgData).group(1)\n",
    "    img_decode = base64.decodebytes(img_str)\n",
    "    with open('output.png', \"wb\") as f:\n",
    "        f.write(img_decode)\n",
    "    return img_decode\n",
    "\n",
    "def preprocess_base64(base64_decoded):\n",
    "    img = io.imread(base64_decoded, plugin='imageio')\n",
    "    img = (255 - img)/255\n",
    "    img = color.rgb2gray(img)\n",
    "    img = transform.resize(img, (28,28))\n",
    "    # Testing purpose\n",
    "    # plt.imsave('processed.jpg', img, cmap='gray')\n",
    "    img = img.reshape((1, -1))\n",
    "    return img\n",
    " \n",
    "# Load your model here\n",
    "with open('models/svm_mnist.pkl', 'rb') as model:\n",
    "    model = pickle.load(model)\n",
    " \n",
    "upload_api = Blueprint('upload_api', __name__)\n",
    " \n",
    " \n",
    "@upload_api.route('/upload/', methods=['POST'])\n",
    "def upload():\n",
    "    img_decode = parse_image(request.get_data())\n",
    "    img = preprocess_base64(img_decode)\n",
    "    prediction = model.predict(img)[0]\n",
    "    return str(prediction)\n",
    "\n",
    "```\n",
    "\n",
    "* Register the upload API in **app/main.py**:\n",
    "\n",
    "```python\n",
    "from flask import Flask, render_template\n",
    "from blueprints import *\n",
    "\n",
    "app = Flask(__name__)\n",
    "app.register_blueprint(home)\n",
    "app.register_blueprint(upload_api)\n",
    "\n",
    "if __name__ == '__main__':\n",
    "    app.run(host='127.0.0.1', port=5000, debug=True)\n",
    "```"
   ]
  },
  {
   "cell_type": "code",
   "execution_count": null,
   "metadata": {
    "colab": {},
    "colab_type": "code",
    "executionInfo": {
     "elapsed": 60758,
     "status": "ok",
     "timestamp": 1596185902101,
     "user": {
      "displayName": "Minh Do",
      "photoUrl": "https://lh3.googleusercontent.com/a-/AOh14GhnQ6aJ2YnaevyJzhii-qGws6Y17w-cwWLqF5iP=s64",
      "userId": "12822549848477954436"
     },
     "user_tz": -420
    },
    "id": "_bBy2A8nExWB"
   },
   "outputs": [],
   "source": []
  }
 ],
 "metadata": {
  "colab": {
   "collapsed_sections": [],
   "name": "Week6-Lab-Solution.ipynb",
   "provenance": []
  },
  "kernelspec": {
   "display_name": "Python 3",
   "language": "python",
   "name": "python3"
  },
  "language_info": {
   "codemirror_mode": {
    "name": "ipython",
    "version": 3
   },
   "file_extension": ".py",
   "mimetype": "text/x-python",
   "name": "python",
   "nbconvert_exporter": "python",
   "pygments_lexer": "ipython3",
   "version": "3.6.12"
  }
 },
 "nbformat": 4,
 "nbformat_minor": 1
}

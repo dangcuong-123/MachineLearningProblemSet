{
 "cells": [
  {
   "cell_type": "markdown",
   "metadata": {
    "colab_type": "text",
    "id": "AbxAt696ms58"
   },
   "source": [
    "# Lab - Logistic Regression"
   ]
  },
  {
   "cell_type": "markdown",
   "metadata": {
    "colab_type": "text",
    "id": "YkoZMtDfmyO7"
   },
   "source": [
    "## Logistic Regression from scratch"
   ]
  },
  {
   "cell_type": "code",
   "execution_count": 1,
   "metadata": {
    "colab": {
     "base_uri": "https://localhost:8080/",
     "height": 71
    },
    "colab_type": "code",
    "executionInfo": {
     "elapsed": 989,
     "status": "ok",
     "timestamp": 1596178225567,
     "user": {
      "displayName": "Minh Do",
      "photoUrl": "https://lh3.googleusercontent.com/a-/AOh14GhnQ6aJ2YnaevyJzhii-qGws6Y17w-cwWLqF5iP=s64",
      "userId": "12822549848477954436"
     },
     "user_tz": -420
    },
    "id": "AaFlqj51nbGm",
    "outputId": "a84eb125-4d55-4383-f28b-539e4a4f465e"
   },
   "outputs": [],
   "source": [
    "import numpy as np\n",
    "import pandas as pd\n",
    "import seaborn as sns\n",
    "import matplotlib.pyplot as plt\n",
    "%matplotlib inline\n",
    "\n",
    "import warnings\n",
    "warnings.filterwarnings('ignore')\n",
    "\n",
    "sns.set_style(\"whitegrid\")"
   ]
  },
  {
   "cell_type": "markdown",
   "metadata": {
    "colab_type": "text",
    "id": "hEGtW99Am75l"
   },
   "source": [
    "Dataset **Titanic**"
   ]
  },
  {
   "cell_type": "code",
   "execution_count": 2,
   "metadata": {
    "colab": {
     "base_uri": "https://localhost:8080/",
     "height": 204
    },
    "colab_type": "code",
    "executionInfo": {
     "elapsed": 1577,
     "status": "ok",
     "timestamp": 1596178226165,
     "user": {
      "displayName": "Minh Do",
      "photoUrl": "https://lh3.googleusercontent.com/a-/AOh14GhnQ6aJ2YnaevyJzhii-qGws6Y17w-cwWLqF5iP=s64",
      "userId": "12822549848477954436"
     },
     "user_tz": -420
    },
    "id": "6l2ZsmISOlGC",
    "outputId": "cc4878bb-c94a-4358-a596-785ec40b5e82"
   },
   "outputs": [
    {
     "data": {
      "text/html": [
       "<div>\n",
       "<style scoped>\n",
       "    .dataframe tbody tr th:only-of-type {\n",
       "        vertical-align: middle;\n",
       "    }\n",
       "\n",
       "    .dataframe tbody tr th {\n",
       "        vertical-align: top;\n",
       "    }\n",
       "\n",
       "    .dataframe thead th {\n",
       "        text-align: right;\n",
       "    }\n",
       "</style>\n",
       "<table border=\"1\" class=\"dataframe\">\n",
       "  <thead>\n",
       "    <tr style=\"text-align: right;\">\n",
       "      <th></th>\n",
       "      <th>Survived</th>\n",
       "      <th>Pclass</th>\n",
       "      <th>Sex</th>\n",
       "      <th>Age</th>\n",
       "      <th>FamilySize</th>\n",
       "    </tr>\n",
       "  </thead>\n",
       "  <tbody>\n",
       "    <tr>\n",
       "      <th>0</th>\n",
       "      <td>0</td>\n",
       "      <td>3</td>\n",
       "      <td>0</td>\n",
       "      <td>22.0</td>\n",
       "      <td>2</td>\n",
       "    </tr>\n",
       "    <tr>\n",
       "      <th>1</th>\n",
       "      <td>1</td>\n",
       "      <td>1</td>\n",
       "      <td>1</td>\n",
       "      <td>38.0</td>\n",
       "      <td>2</td>\n",
       "    </tr>\n",
       "    <tr>\n",
       "      <th>2</th>\n",
       "      <td>1</td>\n",
       "      <td>3</td>\n",
       "      <td>1</td>\n",
       "      <td>26.0</td>\n",
       "      <td>1</td>\n",
       "    </tr>\n",
       "    <tr>\n",
       "      <th>3</th>\n",
       "      <td>1</td>\n",
       "      <td>1</td>\n",
       "      <td>1</td>\n",
       "      <td>35.0</td>\n",
       "      <td>2</td>\n",
       "    </tr>\n",
       "    <tr>\n",
       "      <th>4</th>\n",
       "      <td>0</td>\n",
       "      <td>3</td>\n",
       "      <td>0</td>\n",
       "      <td>35.0</td>\n",
       "      <td>1</td>\n",
       "    </tr>\n",
       "  </tbody>\n",
       "</table>\n",
       "</div>"
      ],
      "text/plain": [
       "   Survived  Pclass  Sex   Age  FamilySize\n",
       "0         0       3    0  22.0           2\n",
       "1         1       1    1  38.0           2\n",
       "2         1       3    1  26.0           1\n",
       "3         1       1    1  35.0           2\n",
       "4         0       3    0  35.0           1"
      ]
     },
     "execution_count": 2,
     "metadata": {},
     "output_type": "execute_result"
    }
   ],
   "source": [
    "titanic = pd.read_csv('https://raw.githubusercontent.com/dhminh1024/practice_datasets/master/titanic.csv')\n",
    "\n",
    "# Data manipulation\n",
    "titanic.fillna(titanic['Age'].mean(), inplace=True)\n",
    "titanic.replace({'Sex':{'male':0, 'female':1}}, inplace=True)\n",
    "titanic['FamilySize'] = titanic['SibSp'] + titanic['Parch'] + 1\n",
    "titanic.drop(columns=['PassengerId', 'Name', 'SibSp', 'Parch', 'Ticket', 'Fare', 'Cabin', 'Embarked'], inplace=True)\n",
    "titanic.head()"
   ]
  },
  {
   "cell_type": "code",
   "execution_count": 3,
   "metadata": {
    "colab": {
     "base_uri": "https://localhost:8080/",
     "height": 51
    },
    "colab_type": "code",
    "executionInfo": {
     "elapsed": 1570,
     "status": "ok",
     "timestamp": 1596178226166,
     "user": {
      "displayName": "Minh Do",
      "photoUrl": "https://lh3.googleusercontent.com/a-/AOh14GhnQ6aJ2YnaevyJzhii-qGws6Y17w-cwWLqF5iP=s64",
      "userId": "12822549848477954436"
     },
     "user_tz": -420
    },
    "id": "vjGt2y_-pPHz",
    "outputId": "b60e55f9-6790-48e7-9272-50e962f272ec"
   },
   "outputs": [
    {
     "name": "stdout",
     "output_type": "stream",
     "text": [
      "Training set: (712, 4) (712, 1)\n",
      "Test set: (179, 4) (179, 1)\n"
     ]
    }
   ],
   "source": [
    "from sklearn.model_selection import train_test_split\n",
    "\n",
    "X = titanic[['Pclass', 'Sex', 'Age', 'FamilySize']].values\n",
    "y = titanic[['Survived']].values\n",
    "\n",
    "X_train, X_test, y_train, y_test = train_test_split(X, y, test_size=0.2, random_state=102)\n",
    "\n",
    "print('Training set:', X_train.shape, y_train.shape)\n",
    "print('Test set:', X_test.shape, y_test.shape)"
   ]
  },
  {
   "cell_type": "markdown",
   "metadata": {
    "colab_type": "text",
    "id": "S79QyfXSqeXj"
   },
   "source": [
    "### Scikit-learn Logistic Regression"
   ]
  },
  {
   "cell_type": "code",
   "execution_count": 4,
   "metadata": {
    "colab": {
     "base_uri": "https://localhost:8080/",
     "height": 289
    },
    "colab_type": "code",
    "executionInfo": {
     "elapsed": 1562,
     "status": "ok",
     "timestamp": 1596178226166,
     "user": {
      "displayName": "Minh Do",
      "photoUrl": "https://lh3.googleusercontent.com/a-/AOh14GhnQ6aJ2YnaevyJzhii-qGws6Y17w-cwWLqF5iP=s64",
      "userId": "12822549848477954436"
     },
     "user_tz": -420
    },
    "id": "Ta6jRuopqPVV",
    "outputId": "32e519b3-fcea-4768-a92b-4d6a63a30761"
   },
   "outputs": [
    {
     "name": "stdout",
     "output_type": "stream",
     "text": [
      "Accuracy score: 0.793296\n",
      "Confusion Matrix:\n",
      "[[97 17]\n",
      " [20 45]]\n",
      "              precision    recall  f1-score   support\n",
      "\n",
      "           0       0.83      0.85      0.84       114\n",
      "           1       0.73      0.69      0.71        65\n",
      "\n",
      "    accuracy                           0.79       179\n",
      "   macro avg       0.78      0.77      0.77       179\n",
      "weighted avg       0.79      0.79      0.79       179\n",
      "\n",
      "Log loss: 0.039884782615024775\n",
      "w =  [[-1.18387774  2.56284417 -0.04074789 -0.21591208]]\n",
      "b =  [2.84100084]\n"
     ]
    }
   ],
   "source": [
    "from sklearn.linear_model import LogisticRegression\n",
    "from sklearn.metrics import confusion_matrix, accuracy_score, classification_report\n",
    "from sklearn.metrics import log_loss\n",
    "\n",
    "# Create Logistics Regression model from X and y\n",
    "lg = LogisticRegression()\n",
    "lg.fit(X_train, y_train)\n",
    "predictions = lg.predict(X_test)\n",
    "\n",
    "# Show metrics\n",
    "print(\"Accuracy score: %f\" % accuracy_score(y_test, predictions))\n",
    "print(\"Confusion Matrix:\")\n",
    "print(confusion_matrix(y_test, predictions))\n",
    "print(classification_report(y_test, predictions))\n",
    "print('Log loss:', log_loss(y_test, predictions)/len(y_test))\n",
    "\n",
    "# Show parameters\n",
    "print('w = ', lg.coef_)\n",
    "print('b = ', lg.intercept_)"
   ]
  },
  {
   "cell_type": "markdown",
   "metadata": {
    "colab_type": "text",
    "id": "keQAhakRrJWs"
   },
   "source": [
    "### Handmade Logistic Regression"
   ]
  },
  {
   "cell_type": "markdown",
   "metadata": {
    "colab_type": "text",
    "id": "IC0ZhoR3rXbO"
   },
   "source": [
    "**Forward Propagation:**\n",
    "$$Z = Xw + b$$\n",
    "$$\\hat{y} = \\sigma(Z) =\\sigma(Xw + b) $$\n",
    "$$J(w, b) = -\\frac{1}{m}\\sum_{i=1}^m{ \\Big( y^{(i)} log( \\hat{y}^{(i)}) + (1-y^{(i)}) log(1 - \\hat{y}^{(i)}) \\Big)} \\tag{5}$$\n",
    "\n",
    "**and Backward**\n",
    "\n",
    "$$ \\frac{\\partial J}{\\partial w} = \\frac{1}{m}X^T(\\hat{y}-y)\\tag{6}$$\n",
    "$$ \\frac{\\partial J}{\\partial b} = \\frac{1}{m} \\sum_{i=1}^m (\\hat{y}^{(i)}-y^{(i)})\\tag{7}$$"
   ]
  },
  {
   "cell_type": "code",
   "execution_count": 5,
   "metadata": {
    "colab": {},
    "colab_type": "code",
    "id": "adHOPx63q5xI"
   },
   "outputs": [],
   "source": [
    "# Initialize params\n",
    "def initialize_params(X):\n",
    "    '''Initialize w, b with zeros and return'''\n",
    "    w = np.zeros((X.shape[1], 1))\n",
    "    b = np.zeros((1, 1))\n",
    "    return w, b"
   ]
  },
  {
   "cell_type": "code",
   "execution_count": 6,
   "metadata": {
    "colab": {},
    "colab_type": "code",
    "id": "LgabqgGhr8B5"
   },
   "outputs": [],
   "source": [
    "# Implement sigmoid\n",
    "def sigmoid(Z):\n",
    "    return 1/(1 + np.exp(-Z))"
   ]
  },
  {
   "cell_type": "code",
   "execution_count": 7,
   "metadata": {
    "colab": {},
    "colab_type": "code",
    "id": "zK_0xR_fsFaD"
   },
   "outputs": [],
   "source": [
    "# Forward propagation\n",
    "def forward(w, b, X):\n",
    "    '''Return y_hat'''\n",
    "    Z = np.dot(X, w) + b\n",
    "    y_hat = sigmoid(Z)\n",
    "    return y_hat"
   ]
  },
  {
   "cell_type": "code",
   "execution_count": 8,
   "metadata": {
    "colab": {},
    "colab_type": "code",
    "id": "kCzZpPg9sX4c"
   },
   "outputs": [],
   "source": [
    "# Binary cross entropy loss\n",
    "def binany_cross_entropy(y, y_hat):\n",
    "    '''Calculate loss function J and return'''\n",
    "    J = -np.mean(y*np.log(y_hat) + (1-y)*np.log(1-y_hat))\n",
    "    return J"
   ]
  },
  {
   "cell_type": "code",
   "execution_count": 9,
   "metadata": {
    "colab": {},
    "colab_type": "code",
    "id": "MhuGl5ATtT2d"
   },
   "outputs": [],
   "source": [
    "# Backward propagation\n",
    "def backward(X, y, y_hat, w, b):\n",
    "    '''Calculate dw, db and return'''\n",
    "    m = X.shape[0]\n",
    "    dw = (1/m) * np.dot(X.T, (y_hat - y))\n",
    "    db = (1/m) * np.sum(y_hat - y, keepdims=True)\n",
    "    return dw, db\n",
    "\n",
    "# Update parameters\n",
    "def update_params(w, b, dw, db, learning_rate):\n",
    "    '''Update w, b and return'''\n",
    "    w = w - learning_rate * dw\n",
    "    b = b - learning_rate * db\n",
    "    return w, b"
   ]
  },
  {
   "cell_type": "code",
   "execution_count": 10,
   "metadata": {
    "colab": {},
    "colab_type": "code",
    "id": "8J3nYXjMupQa"
   },
   "outputs": [],
   "source": [
    "# Training process\n",
    "def train(X, y, iterations, learning_rate):\n",
    "    '''Train w, b and return'''\n",
    "    w, b = initialize_params(X)\n",
    "\n",
    "    history = {'train_loss': np.array([]),\n",
    "               'test_loss': np.array([]),\n",
    "               'lr': np.array([])}\n",
    "\n",
    "    for i in range(iterations):\n",
    "        y_hat = forward(w, b, X)\n",
    "        J = binany_cross_entropy(y, y_hat)\n",
    "        history['train_loss'] = np.append(history['train_loss'], J)\n",
    "        J_test = binany_cross_entropy(y_test, forward(w, b, X_test))\n",
    "        history['test_loss'] = np.append(history['test_loss'], J_test)\n",
    "        if i % 100 == 0:\n",
    "            print(f'Step {i}: train_loss = {J}')\n",
    "        dw, db = backward(X, y, y_hat, w, b)\n",
    "        w, b = update_params(w, b, dw, db, learning_rate)\n",
    "    return w, b, history"
   ]
  },
  {
   "cell_type": "code",
   "execution_count": 11,
   "metadata": {
    "colab": {},
    "colab_type": "code",
    "id": "N6NGSUVpuVNA"
   },
   "outputs": [],
   "source": [
    "# Predict\n",
    "def predict(w, b, X):\n",
    "    '''Return predicted y of X'''\n",
    "    y_hat = forward(w, b, X)\n",
    "    return y_hat > 0.5"
   ]
  },
  {
   "cell_type": "code",
   "execution_count": 12,
   "metadata": {
    "colab": {
     "base_uri": "https://localhost:8080/",
     "height": 1000
    },
    "colab_type": "code",
    "executionInfo": {
     "elapsed": 2543,
     "status": "ok",
     "timestamp": 1596178489397,
     "user": {
      "displayName": "Minh Do",
      "photoUrl": "https://lh3.googleusercontent.com/a-/AOh14GhnQ6aJ2YnaevyJzhii-qGws6Y17w-cwWLqF5iP=s64",
      "userId": "12822549848477954436"
     },
     "user_tz": -420
    },
    "id": "mDgSepfDwEHy",
    "outputId": "dd0f5aa2-6ac6-4e24-9199-915fd31e2229"
   },
   "outputs": [
    {
     "name": "stdout",
     "output_type": "stream",
     "text": [
      "Step 0: train_loss = 0.6931471805599453\n",
      "Step 100: train_loss = 0.6468251630263747\n",
      "Step 200: train_loss = 0.6326757129358916\n",
      "Step 300: train_loss = 0.620992935723151\n",
      "Step 400: train_loss = 0.6109658510132288\n",
      "Step 500: train_loss = 0.602152147668363\n",
      "Step 600: train_loss = 0.5942744614199724\n",
      "Step 700: train_loss = 0.5871431335121196\n",
      "Step 800: train_loss = 0.5806220436874141\n",
      "Step 900: train_loss = 0.5746106860323436\n",
      "Step 1000: train_loss = 0.5690333588537603\n",
      "Step 1100: train_loss = 0.5638320514323742\n",
      "Step 1200: train_loss = 0.5589615449002255\n",
      "Step 1300: train_loss = 0.554385962345795\n",
      "Step 1400: train_loss = 0.550076312149218\n",
      "Step 1500: train_loss = 0.5460087270411389\n",
      "Step 1600: train_loss = 0.5421631955903263\n",
      "Step 1700: train_loss = 0.5385226441635325\n",
      "Step 1800: train_loss = 0.535072269221707\n",
      "Step 1900: train_loss = 0.5317990489438789\n",
      "Step 2000: train_loss = 0.5286913836584277\n",
      "Step 2100: train_loss = 0.5257388290480368\n",
      "Step 2200: train_loss = 0.5229318963714717\n",
      "Step 2300: train_loss = 0.5202619012545813\n",
      "Step 2400: train_loss = 0.5177208478130648\n",
      "Step 2500: train_loss = 0.5153013385908951\n",
      "Step 2600: train_loss = 0.512996503461038\n",
      "Step 2700: train_loss = 0.5107999425434852\n",
      "Step 2800: train_loss = 0.5087056795653051\n",
      "Step 2900: train_loss = 0.5067081230717213\n",
      "Step 3000: train_loss = 0.5048020336054064\n",
      "Step 3100: train_loss = 0.502982495481241\n",
      "Step 3200: train_loss = 0.5012448921515325\n",
      "Step 3300: train_loss = 0.4995848844221315\n",
      "Step 3400: train_loss = 0.4979983909716992\n",
      "Step 3500: train_loss = 0.4964815707652122\n",
      "Step 3600: train_loss = 0.495030807053444\n",
      "Step 3700: train_loss = 0.49364269272331085\n",
      "Step 3800: train_loss = 0.4923140168172963\n",
      "Step 3900: train_loss = 0.49104175207919104\n",
      "Step 4000: train_loss = 0.489823043412096\n",
      "Step 4100: train_loss = 0.4886551971558989\n",
      "Step 4200: train_loss = 0.48753567110731816\n",
      "Step 4300: train_loss = 0.4864620652175899\n",
      "Step 4400: train_loss = 0.48543211291204735\n",
      "Step 4500: train_loss = 0.48444367298294144\n",
      "Step 4600: train_loss = 0.48349472201248067\n",
      "Step 4700: train_loss = 0.4825833472875696\n",
      "Step 4800: train_loss = 0.48170774017143897\n",
      "Step 4900: train_loss = 0.48086618990045576\n",
      "Step 5000: train_loss = 0.4800570777770414\n",
      "Step 5100: train_loss = 0.4792788717319244\n",
      "Step 5200: train_loss = 0.4785301212309691\n",
      "Step 5300: train_loss = 0.47780945250363\n",
      "Step 5400: train_loss = 0.47711556407171085\n",
      "Step 5500: train_loss = 0.47644722255859384\n",
      "Step 5600: train_loss = 0.4758032587604641\n",
      "Step 5700: train_loss = 0.47518256396231456\n",
      "Step 5800: train_loss = 0.4745840864826773\n",
      "Step 5900: train_loss = 0.4740068284321108\n",
      "Step 6000: train_loss = 0.4734498426714737\n",
      "Step 6100: train_loss = 0.47291222995695653\n",
      "Step 6200: train_loss = 0.47239313625971086\n",
      "Step 6300: train_loss = 0.4718917502487367\n",
      "Step 6400: train_loss = 0.4714073009264412\n",
      "Step 6500: train_loss = 0.4709390554069974\n",
      "Step 6600: train_loss = 0.47048631682828956\n",
      "Step 6700: train_loss = 0.4700484223888518\n",
      "Step 6800: train_loss = 0.46962474150177974\n",
      "Step 6900: train_loss = 0.46921467405813627\n",
      "Step 7000: train_loss = 0.4688176487928685\n",
      "Step 7100: train_loss = 0.4684331217467234\n",
      "Step 7200: train_loss = 0.46806057481808544\n",
      "Step 7300: train_loss = 0.4676995143990601\n",
      "Step 7400: train_loss = 0.46734947009051225\n",
      "Step 7500: train_loss = 0.46700999349111383\n",
      "Step 7600: train_loss = 0.46668065705578793\n",
      "Step 7700: train_loss = 0.46636105301923964\n",
      "Step 7800: train_loss = 0.4660507923805488\n",
      "Step 7900: train_loss = 0.46574950394506553\n",
      "Step 8000: train_loss = 0.46545683342009586\n",
      "Step 8100: train_loss = 0.46517244256109513\n",
      "Step 8200: train_loss = 0.4648960083653009\n",
      "Step 8300: train_loss = 0.46462722230993586\n",
      "Step 8400: train_loss = 0.4643657896322994\n",
      "Step 8500: train_loss = 0.4641114286492374\n",
      "Step 8600: train_loss = 0.46386387011364244\n",
      "Step 8700: train_loss = 0.46362285660578734\n",
      "Step 8800: train_loss = 0.46338814195743555\n",
      "Step 8900: train_loss = 0.46315949070680024\n",
      "Step 9000: train_loss = 0.46293667758255047\n",
      "Step 9100: train_loss = 0.4627194870151721\n",
      "Step 9200: train_loss = 0.46250771267410073\n",
      "Step 9300: train_loss = 0.4623011570291399\n",
      "Step 9400: train_loss = 0.4620996309347744\n",
      "Step 9500: train_loss = 0.46190295323606984\n",
      "Step 9600: train_loss = 0.4617109503949353\n",
      "Step 9700: train_loss = 0.461523456135597\n",
      "Step 9800: train_loss = 0.4613403111082044\n",
      "Step 9900: train_loss = 0.461161362569554\n"
     ]
    }
   ],
   "source": [
    "# Train the model and predict X_test\n",
    "w, b, history = train(X_train, y_train, iterations=10000, learning_rate=5e-3)\n",
    "predictions = predict(w, b, X_test)"
   ]
  },
  {
   "cell_type": "code",
   "execution_count": 13,
   "metadata": {
    "colab": {
     "base_uri": "https://localhost:8080/",
     "height": 374
    },
    "colab_type": "code",
    "executionInfo": {
     "elapsed": 1012,
     "status": "ok",
     "timestamp": 1596178497553,
     "user": {
      "displayName": "Minh Do",
      "photoUrl": "https://lh3.googleusercontent.com/a-/AOh14GhnQ6aJ2YnaevyJzhii-qGws6Y17w-cwWLqF5iP=s64",
      "userId": "12822549848477954436"
     },
     "user_tz": -420
    },
    "id": "bazyQEBrpoJd",
    "outputId": "5590b800-a5f4-4fcc-8a4d-f4a488f0b8f8"
   },
   "outputs": [
    {
     "data": {
      "image/png": "[encoded data removed]",
      "text/plain": [
       "<Figure size 720x432 with 1 Axes>"
      ]
     },
     "metadata": {},
     "output_type": "display_data"
    }
   ],
   "source": [
    "plt.figure(figsize=(10, 6))\n",
    "plt.plot(history['train_loss'], label='Training Loss', alpha=0.5)\n",
    "plt.plot(history['test_loss'], label='Test Loss', alpha=0.5)\n",
    "# plt.xlim(0, 20000)\n",
    "# plt.ylim(0.6, 0.8)\n",
    "plt.legend()\n",
    "plt.show()"
   ]
  },
  {
   "cell_type": "markdown",
   "metadata": {
    "colab_type": "text",
    "id": "JTUDeY_fwIXx"
   },
   "source": [
    "**Evaluation**"
   ]
  },
  {
   "cell_type": "code",
   "execution_count": 14,
   "metadata": {
    "colab": {
     "base_uri": "https://localhost:8080/",
     "height": 272
    },
    "colab_type": "code",
    "executionInfo": {
     "elapsed": 3090,
     "status": "ok",
     "timestamp": 1596178227720,
     "user": {
      "displayName": "Minh Do",
      "photoUrl": "https://lh3.googleusercontent.com/a-/AOh14GhnQ6aJ2YnaevyJzhii-qGws6Y17w-cwWLqF5iP=s64",
      "userId": "12822549848477954436"
     },
     "user_tz": -420
    },
    "id": "5yXlcgeRwZ3v",
    "outputId": "532ea771-2082-43f0-ef06-48e207b0189c"
   },
   "outputs": [
    {
     "name": "stdout",
     "output_type": "stream",
     "text": [
      "Accuracy score: 0.815642\n",
      "Confusion Matrix:\n",
      "[[101  13]\n",
      " [ 20  45]]\n",
      "              precision    recall  f1-score   support\n",
      "\n",
      "           0       0.83      0.89      0.86       114\n",
      "           1       0.78      0.69      0.73        65\n",
      "\n",
      "    accuracy                           0.82       179\n",
      "   macro avg       0.81      0.79      0.80       179\n",
      "weighted avg       0.81      0.82      0.81       179\n",
      "\n",
      "w =  [[-1.18387774  2.56284417 -0.04074789 -0.21591208]]\n",
      "b =  [2.84100084]\n"
     ]
    }
   ],
   "source": [
    "# Evaluation\n",
    "print(\"Accuracy score: %f\" % accuracy_score(y_test, predictions))\n",
    "print(\"Confusion Matrix:\")\n",
    "print(confusion_matrix(y_test, predictions))\n",
    "print(classification_report(y_test, predictions))\n",
    "\n",
    "# Show parameters\n",
    "print('w = ', lg.coef_)\n",
    "print('b = ', lg.intercept_)"
   ]
  },
  {
   "cell_type": "code",
   "execution_count": 15,
   "metadata": {
    "colab": {},
    "colab_type": "code",
    "id": "Sd03Qlx8woet"
   },
   "outputs": [],
   "source": [
    "# Output of sklearn.LogisticRegression\n",
    "# Accuracy score: 0.793296\n",
    "# Confusion Matrix:\n",
    "# [[97 17]\n",
    "#  [20 45]]\n",
    "#               precision    recall  f1-score   support\n",
    "\n",
    "#            0       0.83      0.85      0.84       114\n",
    "#            1       0.73      0.69      0.71        65\n",
    "\n",
    "#     accuracy                           0.79       179\n",
    "#    macro avg       0.78      0.77      0.77       179\n",
    "# weighted avg       0.79      0.79      0.79       179\n",
    "\n",
    "# Log loss: 0.039884782615024775\n",
    "# w =  [[-1.18387774  2.56284417 -0.04074789 -0.21591208]]\n",
    "# b =  [2.84100084]"
   ]
  },
  {
   "cell_type": "markdown",
   "metadata": {
    "colab_type": "text",
    "id": "UIj9GKy8Y9Pp"
   },
   "source": [
    "**Well done!**"
   ]
  }
 ],
 "metadata": {
  "colab": {
   "collapsed_sections": [],
   "name": "Week5-Lab-Logistic Regression-Solution.ipynb",
   "provenance": []
  },
  "kernelspec": {
   "display_name": "Python 3",
   "language": "python",
   "name": "python3"
  },
  "language_info": {
   "codemirror_mode": {
    "name": "ipython",
    "version": 3
   },
   "file_extension": ".py",
   "mimetype": "text/x-python",
   "name": "python",
   "nbconvert_exporter": "python",
   "pygments_lexer": "ipython3",
   "version": "3.6.12"
  }
 },
 "nbformat": 4,
 "nbformat_minor": 1
}

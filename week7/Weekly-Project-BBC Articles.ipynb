{
 "cells": [
  {
   "cell_type": "markdown",
   "metadata": {
    "colab_type": "text",
    "id": "s8btHNo7H5Cf"
   },
   "source": [
    "# Organize ML projects with Scikit-Learn"
   ]
  },
  {
   "cell_type": "markdown",
   "metadata": {
    "colab_type": "text",
    "id": "8yK9CuWlH5Ch"
   },
   "source": [
    "While Machine Learning is powerful, people often overestimate it: apply machine learning to your project, and all your problems will be solved. In reality, it's not this simple. To be effective, one needs to organize the work very well. In this notebook, we will walkthrough practical aspects of a ML project. To look at the big picture, let's start with a checklist below. It should work reasonably well for most ML projects, but make sure to adapt it to your needs:\n",
    "\n",
    "1. **Define the scope of work and objective**\n",
    "    * How is your solution be used?\n",
    "    * How should performance be measured? Are there any contraints?\n",
    "    * How would the problem be solved manually?\n",
    "    * List the available assumptions, and verify if possible.\n",
    "    \n",
    "    \n",
    "2. **Get the data**\n",
    "    * Document where you can get that data\n",
    "    * Store data in a workspace you can easily access\n",
    "    * Convert the data to a format you can easily manipulate\n",
    "    * Check the overview (size, type, sample, description, statistics)\n",
    "    * Data cleaning\n",
    "    \n",
    "    \n",
    "3. **EDA & Data transformation**\n",
    "    * Study each attribute and its characteristics (missing values, type of distribution, usefulness)\n",
    "    * Visualize the data\n",
    "    * Study the correlations between attributes\n",
    "    * Feature selection, Feature Engineering, Feature scaling\n",
    "    * Write functions for all data transformations\n",
    "    \n",
    "    \n",
    "4. **Train models**\n",
    "    * Automate as much as possible\n",
    "    * Train promising models quickly using standard parameters. Measure and compare their performance\n",
    "    * Analyze the errors the models make\n",
    "    * Shortlist the top three of five most promising models, preferring models that make different types of errors.\n",
    "\n",
    "\n",
    "5. **Fine-tunning**\n",
    "    * Treat data transformation choices as hyperparameters, expecially when you are not sure about them (e.g., replace missing values with zeros or with the median value)\n",
    "    * Unless there are very few hyperparameter value to explore, prefer random search over grid search.\n",
    "    * Try ensemble methods\n",
    "    * Test your final model on the test set to estimate the generalizaiton error. Don't tweak your model again, you would start overfitting the test set."
   ]
  },
  {
   "cell_type": "markdown",
   "metadata": {
    "colab_type": "text",
    "id": "ofeuKevOH5Ch"
   },
   "source": [
    "## Example: Articles categorization"
   ]
  },
  {
   "cell_type": "markdown",
   "metadata": {
    "colab_type": "text",
    "id": "m2NSUqUEH5Ci"
   },
   "source": [
    "### Objectives"
   ]
  },
  {
   "cell_type": "markdown",
   "metadata": {
    "colab_type": "text",
    "id": "5GttlMG-H5Cj"
   },
   "source": [
    "Build a model to determine the categories of articles. "
   ]
  },
  {
   "cell_type": "markdown",
   "metadata": {
    "colab_type": "text",
    "id": "EwbjWOG1H5Ck"
   },
   "source": [
    "### Get Data"
   ]
  },
  {
   "cell_type": "code",
   "execution_count": 2,
   "metadata": {
    "colab": {
     "base_uri": "https://localhost:8080/",
     "height": 71
    },
    "colab_type": "code",
    "executionInfo": {
     "elapsed": 1131,
     "status": "ok",
     "timestamp": 1588574452252,
     "user": {
      "displayName": "Minh Do",
      "photoUrl": "https://lh3.googleusercontent.com/a-/AOh14GhnQ6aJ2YnaevyJzhii-qGws6Y17w-cwWLqF5iP=s64",
      "userId": "12822549848477954436"
     },
     "user_tz": -420
    },
    "id": "iWq7xex_H5Ck",
    "outputId": "79e56601-3e2b-4f91-f884-3bf3388f162b"
   },
   "outputs": [],
   "source": [
    "import numpy as np\n",
    "import pandas as pd\n",
    "import seaborn as sns\n",
    "import matplotlib.pyplot as plt\n",
    "%matplotlib inline\n",
    "\n",
    "import warnings\n",
    "warnings.filterwarnings('ignore')\n",
    "\n",
    "sns.set_style(\"whitegrid\")"
   ]
  },
  {
   "cell_type": "code",
   "execution_count": 3,
   "metadata": {
    "colab": {},
    "colab_type": "code",
    "id": "m9W7Hzt2H5Cp"
   },
   "outputs": [],
   "source": [
    "bbc = pd.read_csv('https://raw.githubusercontent.com/dhminh1024/practice_datasets/master/bbc-text.csv')"
   ]
  },
  {
   "cell_type": "code",
   "execution_count": 4,
   "metadata": {
    "colab": {
     "base_uri": "https://localhost:8080/",
     "height": 204
    },
    "colab_type": "code",
    "executionInfo": {
     "elapsed": 929,
     "status": "ok",
     "timestamp": 1588574456884,
     "user": {
      "displayName": "Minh Do",
      "photoUrl": "https://lh3.googleusercontent.com/a-/AOh14GhnQ6aJ2YnaevyJzhii-qGws6Y17w-cwWLqF5iP=s64",
      "userId": "12822549848477954436"
     },
     "user_tz": -420
    },
    "id": "teb1QvD1H5Cs",
    "outputId": "4c34de3c-bec2-4ee4-a1d7-8baa01f37315"
   },
   "outputs": [
    {
     "data": {
      "text/html": [
       "<div>\n",
       "<style scoped>\n",
       "    .dataframe tbody tr th:only-of-type {\n",
       "        vertical-align: middle;\n",
       "    }\n",
       "\n",
       "    .dataframe tbody tr th {\n",
       "        vertical-align: top;\n",
       "    }\n",
       "\n",
       "    .dataframe thead th {\n",
       "        text-align: right;\n",
       "    }\n",
       "</style>\n",
       "<table border=\"1\" class=\"dataframe\">\n",
       "  <thead>\n",
       "    <tr style=\"text-align: right;\">\n",
       "      <th></th>\n",
       "      <th>category</th>\n",
       "      <th>text</th>\n",
       "    </tr>\n",
       "  </thead>\n",
       "  <tbody>\n",
       "    <tr>\n",
       "      <th>2124</th>\n",
       "      <td>business</td>\n",
       "      <td>tate &amp; lyle boss bags top award tate &amp; lyle s ...</td>\n",
       "    </tr>\n",
       "    <tr>\n",
       "      <th>1597</th>\n",
       "      <td>business</td>\n",
       "      <td>survey confirms property slowdown government f...</td>\n",
       "    </tr>\n",
       "    <tr>\n",
       "      <th>1236</th>\n",
       "      <td>business</td>\n",
       "      <td>malaysia lifts islamic bank limit malaysia s c...</td>\n",
       "    </tr>\n",
       "    <tr>\n",
       "      <th>354</th>\n",
       "      <td>entertainment</td>\n",
       "      <td>neeson in bid to revive theatre hollywood film...</td>\n",
       "    </tr>\n",
       "    <tr>\n",
       "      <th>2157</th>\n",
       "      <td>sport</td>\n",
       "      <td>woodward eyes brennan for lions toulouse s for...</td>\n",
       "    </tr>\n",
       "  </tbody>\n",
       "</table>\n",
       "</div>"
      ],
      "text/plain": [
       "           category                                               text\n",
       "2124       business  tate & lyle boss bags top award tate & lyle s ...\n",
       "1597       business  survey confirms property slowdown government f...\n",
       "1236       business  malaysia lifts islamic bank limit malaysia s c...\n",
       "354   entertainment  neeson in bid to revive theatre hollywood film...\n",
       "2157          sport  woodward eyes brennan for lions toulouse s for..."
      ]
     },
     "execution_count": 4,
     "metadata": {},
     "output_type": "execute_result"
    }
   ],
   "source": [
    "bbc.sample(5)"
   ]
  },
  {
   "cell_type": "code",
   "execution_count": 5,
   "metadata": {
    "colab": {
     "base_uri": "https://localhost:8080/",
     "height": 170
    },
    "colab_type": "code",
    "executionInfo": {
     "elapsed": 1239,
     "status": "ok",
     "timestamp": 1588574461552,
     "user": {
      "displayName": "Minh Do",
      "photoUrl": "https://lh3.googleusercontent.com/a-/AOh14GhnQ6aJ2YnaevyJzhii-qGws6Y17w-cwWLqF5iP=s64",
      "userId": "12822549848477954436"
     },
     "user_tz": -420
    },
    "id": "KBW_Sg2RH5Cy",
    "outputId": "b30912a6-ff10-4afc-e33b-d7e65d63a31a"
   },
   "outputs": [
    {
     "name": "stdout",
     "output_type": "stream",
     "text": [
      "<class 'pandas.core.frame.DataFrame'>\n",
      "RangeIndex: 2225 entries, 0 to 2224\n",
      "Data columns (total 2 columns):\n",
      " #   Column    Non-Null Count  Dtype \n",
      "---  ------    --------------  ----- \n",
      " 0   category  2225 non-null   object\n",
      " 1   text      2225 non-null   object\n",
      "dtypes: object(2)\n",
      "memory usage: 34.9+ KB\n"
     ]
    }
   ],
   "source": [
    "bbc.info()"
   ]
  },
  {
   "cell_type": "code",
   "execution_count": 6,
   "metadata": {
    "colab": {},
    "colab_type": "code",
    "id": "dh3VRY5Zxmw6"
   },
   "outputs": [
    {
     "data": {
      "text/plain": [
       "<AxesSubplot:xlabel='category', ylabel='count'>"
      ]
     },
     "execution_count": 6,
     "metadata": {},
     "output_type": "execute_result"
    },
    {
     "data": {
      "image/png": "[encoded data removed]",
      "text/plain": [
       "<Figure size 432x288 with 1 Axes>"
      ]
     },
     "metadata": {},
     "output_type": "display_data"
    }
   ],
   "source": [
    "# Your code here\n",
    "sns.countplot(bbc['category'])"
   ]
  },
  {
   "cell_type": "code",
   "execution_count": 7,
   "metadata": {},
   "outputs": [],
   "source": [
    "from sklearn.model_selection import train_test_split\n",
    "\n",
    "X = bbc['text']\n",
    "y = bbc['category']\n",
    "X_train, X_test, y_train, y_test = train_test_split(X, y, test_size=0.2, random_state=102)"
   ]
  },
  {
   "cell_type": "code",
   "execution_count": 8,
   "metadata": {},
   "outputs": [
    {
     "data": {
      "text/plain": [
       "2095    souped-up wi-fi is on the horizon super high-s...\n",
       "433     benitez issues warning to gerrard liverpool ma...\n",
       "1635    super union  merger plan touted two of britain...\n",
       "2140    celts savour grand slam prospect the six natio...\n",
       "595     branson show flops on us screens entrepreneur ...\n",
       "                              ...                        \n",
       "79      khodorkovsky ally denies charges a close assoc...\n",
       "2093    download chart debut is delayed the inclusion ...\n",
       "969     steel firm  to cut  45 000 jobs mittal steel  ...\n",
       "879     singapore growth at 8.1% in 2004 singapore s e...\n",
       "755     us to rule on yukos refuge call yukos has said...\n",
       "Name: text, Length: 1780, dtype: object"
      ]
     },
     "execution_count": 8,
     "metadata": {},
     "output_type": "execute_result"
    }
   ],
   "source": [
    "X_train"
   ]
  },
  {
   "cell_type": "code",
   "execution_count": 9,
   "metadata": {},
   "outputs": [],
   "source": [
    "from nltk.corpus import stopwords\n",
    "from nltk.stem import PorterStemmer\n",
    "import re\n",
    "from sklearn.metrics import accuracy_score, confusion_matrix, classification_report"
   ]
  },
  {
   "cell_type": "code",
   "execution_count": 10,
   "metadata": {},
   "outputs": [],
   "source": [
    "stop_words = stopwords.words('english')\n",
    "def preprocessor(text):\n",
    "    text = (re.sub('[\\W]+', ' ', text.lower()))\n",
    "    return text\n",
    "\n",
    "porter = PorterStemmer()\n",
    "def tokenizer_porter(text):\n",
    "    return [porter.stem(word) for word in text.split()]"
   ]
  },
  {
   "cell_type": "code",
   "execution_count": 11,
   "metadata": {},
   "outputs": [
    {
     "data": {
      "text/plain": [
       "Pipeline(steps=[('vect',\n",
       "                 TfidfVectorizer(preprocessor=<function preprocessor at 0x7f851ce38620>,\n",
       "                                 stop_words=['i', 'me', 'my', 'myself', 'we',\n",
       "                                             'our', 'ours', 'ourselves', 'you',\n",
       "                                             \"you're\", \"you've\", \"you'll\",\n",
       "                                             \"you'd\", 'your', 'yours',\n",
       "                                             'yourself', 'yourselves', 'he',\n",
       "                                             'him', 'his', 'himself', 'she',\n",
       "                                             \"she's\", 'her', 'hers', 'herself',\n",
       "                                             'it', \"it's\", 'its', 'itself', ...],\n",
       "                                 tokenizer=<function tokenizer_porter at 0x7f8541b31268>)),\n",
       "                ('clf', LogisticRegression(random_state=0))])"
      ]
     },
     "execution_count": 11,
     "metadata": {},
     "output_type": "execute_result"
    }
   ],
   "source": [
    "from sklearn.pipeline import Pipeline\n",
    "from sklearn.linear_model import LogisticRegression\n",
    "from sklearn.feature_extraction.text import TfidfVectorizer\n",
    "\n",
    "tfidf = TfidfVectorizer(stop_words = stop_words,\n",
    "                        tokenizer = tokenizer_porter,\n",
    "                        preprocessor = preprocessor)\n",
    "\n",
    "clf = Pipeline([('vect', tfidf),\n",
    "                ('clf', LogisticRegression(random_state=0))])\n",
    "clf.fit(X_train, y_train)"
   ]
  },
  {
   "cell_type": "code",
   "execution_count": 12,
   "metadata": {},
   "outputs": [
    {
     "name": "stdout",
     "output_type": "stream",
     "text": [
      "accuracy: 0.9820224719101124\n",
      "confusion matrix:\n",
      " [[88  0  1  0  1]\n",
      " [ 0 91  0  0  1]\n",
      " [ 2  0 82  1  0]\n",
      " [ 1  0  0 98  0]\n",
      " [ 0  0  1  0 78]]\n",
      "classification report:\n",
      "                precision    recall  f1-score   support\n",
      "\n",
      "     business       0.97      0.98      0.97        90\n",
      "entertainment       1.00      0.99      0.99        92\n",
      "     politics       0.98      0.96      0.97        85\n",
      "        sport       0.99      0.99      0.99        99\n",
      "         tech       0.97      0.99      0.98        79\n",
      "\n",
      "     accuracy                           0.98       445\n",
      "    macro avg       0.98      0.98      0.98       445\n",
      " weighted avg       0.98      0.98      0.98       445\n",
      "\n"
     ]
    }
   ],
   "source": [
    "\n",
    "# Now apply those above metrics to evaluate your model\n",
    "# Your code here\n",
    "predictions = clf.predict(X_test)\n",
    "print('accuracy:',accuracy_score(y_test,predictions))\n",
    "print('confusion matrix:\\n',confusion_matrix(y_test,predictions))\n",
    "print('classification report:\\n',classification_report(y_test,predictions))"
   ]
  },
  {
   "cell_type": "code",
   "execution_count": 13,
   "metadata": {},
   "outputs": [
    {
     "data": {
      "text/plain": [
       "Pipeline(steps=[('vect',\n",
       "                 TfidfVectorizer(preprocessor=<function preprocessor at 0x7f851ce38620>,\n",
       "                                 stop_words=['i', 'me', 'my', 'myself', 'we',\n",
       "                                             'our', 'ours', 'ourselves', 'you',\n",
       "                                             \"you're\", \"you've\", \"you'll\",\n",
       "                                             \"you'd\", 'your', 'yours',\n",
       "                                             'yourself', 'yourselves', 'he',\n",
       "                                             'him', 'his', 'himself', 'she',\n",
       "                                             \"she's\", 'her', 'hers', 'herself',\n",
       "                                             'it', \"it's\", 'its', 'itself', ...],\n",
       "                                 tokenizer=<function tokenizer_porter at 0x7f8541b31268>)),\n",
       "                ('clf', SVC())])"
      ]
     },
     "execution_count": 13,
     "metadata": {},
     "output_type": "execute_result"
    }
   ],
   "source": [
    "from sklearn.svm import SVC\n",
    "from sklearn.preprocessing import StandardScaler\n",
    "\n",
    "tfidf = TfidfVectorizer(stop_words = stop_words,\n",
    "                        tokenizer = tokenizer_porter,\n",
    "                        preprocessor = preprocessor)\n",
    "\n",
    "clf = Pipeline([('vect', tfidf),\n",
    "                ('clf', SVC())])\n",
    "                \n",
    "clf.fit(X_train, y_train)"
   ]
  },
  {
   "cell_type": "code",
   "execution_count": 14,
   "metadata": {},
   "outputs": [
    {
     "name": "stdout",
     "output_type": "stream",
     "text": [
      "accuracy: 0.9797752808988764\n",
      "confusion matrix:\n",
      " [[88  1  1  0  0]\n",
      " [ 0 92  0  0  0]\n",
      " [ 3  0 81  1  0]\n",
      " [ 1  0  0 98  0]\n",
      " [ 1  0  1  0 77]]\n",
      "classification report:\n",
      "                precision    recall  f1-score   support\n",
      "\n",
      "     business       0.95      0.98      0.96        90\n",
      "entertainment       0.99      1.00      0.99        92\n",
      "     politics       0.98      0.95      0.96        85\n",
      "        sport       0.99      0.99      0.99        99\n",
      "         tech       1.00      0.97      0.99        79\n",
      "\n",
      "     accuracy                           0.98       445\n",
      "    macro avg       0.98      0.98      0.98       445\n",
      " weighted avg       0.98      0.98      0.98       445\n",
      "\n"
     ]
    }
   ],
   "source": [
    "predictions = clf.predict(X_test)\n",
    "print('accuracy:',accuracy_score(y_test,predictions))\n",
    "print('confusion matrix:\\n',confusion_matrix(y_test,predictions))\n",
    "print('classification report:\\n',classification_report(y_test,predictions))"
   ]
  },
  {
   "cell_type": "code",
   "execution_count": 15,
   "metadata": {},
   "outputs": [
    {
     "data": {
      "text/plain": [
       "Pipeline(steps=[('vect',\n",
       "                 TfidfVectorizer(preprocessor=<function preprocessor at 0x7f851ce38620>,\n",
       "                                 stop_words=['i', 'me', 'my', 'myself', 'we',\n",
       "                                             'our', 'ours', 'ourselves', 'you',\n",
       "                                             \"you're\", \"you've\", \"you'll\",\n",
       "                                             \"you'd\", 'your', 'yours',\n",
       "                                             'yourself', 'yourselves', 'he',\n",
       "                                             'him', 'his', 'himself', 'she',\n",
       "                                             \"she's\", 'her', 'hers', 'herself',\n",
       "                                             'it', \"it's\", 'its', 'itself', ...],\n",
       "                                 tokenizer=<function tokenizer_porter at 0x7f8541b31268>)),\n",
       "                ('clf', DecisionTreeClassifier())])"
      ]
     },
     "execution_count": 15,
     "metadata": {},
     "output_type": "execute_result"
    }
   ],
   "source": [
    "from sklearn.tree import DecisionTreeClassifier\n",
    "\n",
    "clf = Pipeline([('vect', tfidf),\n",
    "                ('clf', DecisionTreeClassifier())])\n",
    "                \n",
    "clf.fit(X_train, y_train)"
   ]
  },
  {
   "cell_type": "code",
   "execution_count": 16,
   "metadata": {},
   "outputs": [
    {
     "name": "stdout",
     "output_type": "stream",
     "text": [
      "accuracy: 0.8471910112359551\n",
      "confusion matrix:\n",
      " [[74  7  3  2  4]\n",
      " [ 3 72  7  8  2]\n",
      " [ 9  3 69  4  0]\n",
      " [ 2  0  3 94  0]\n",
      " [ 4  3  4  0 68]]\n",
      "classification report:\n",
      "                precision    recall  f1-score   support\n",
      "\n",
      "     business       0.80      0.82      0.81        90\n",
      "entertainment       0.85      0.78      0.81        92\n",
      "     politics       0.80      0.81      0.81        85\n",
      "        sport       0.87      0.95      0.91        99\n",
      "         tech       0.92      0.86      0.89        79\n",
      "\n",
      "     accuracy                           0.85       445\n",
      "    macro avg       0.85      0.85      0.85       445\n",
      " weighted avg       0.85      0.85      0.85       445\n",
      "\n"
     ]
    }
   ],
   "source": [
    "predictions = clf.predict(X_test)\n",
    "print('accuracy:',accuracy_score(y_test,predictions))\n",
    "print('confusion matrix:\\n',confusion_matrix(y_test,predictions))\n",
    "print('classification report:\\n',classification_report(y_test,predictions))"
   ]
  },
  {
   "cell_type": "code",
   "execution_count": 31,
   "metadata": {},
   "outputs": [
    {
     "data": {
      "text/plain": [
       "Pipeline(steps=[('vect',\n",
       "                 TfidfVectorizer(preprocessor=<function preprocessor at 0x7f851ce38620>,\n",
       "                                 stop_words=['i', 'me', 'my', 'myself', 'we',\n",
       "                                             'our', 'ours', 'ourselves', 'you',\n",
       "                                             \"you're\", \"you've\", \"you'll\",\n",
       "                                             \"you'd\", 'your', 'yours',\n",
       "                                             'yourself', 'yourselves', 'he',\n",
       "                                             'him', 'his', 'himself', 'she',\n",
       "                                             \"she's\", 'her', 'hers', 'herself',\n",
       "                                             'it', \"it's\", 'its', 'itself', ...],\n",
       "                                 tokenizer=<function tokenizer_porter at 0x7f8541b31268>)),\n",
       "                ('clf',\n",
       "                 VotingClassifier(estimators=[('Logistic Regression',\n",
       "                                               LogisticRegression()),\n",
       "                                              ('SVM', SVC(probability=True)),\n",
       "                                              ('DT', DecisionTreeClassifier())],\n",
       "                                  voting='soft', weights=[3, 2, 1]))])"
      ]
     },
     "execution_count": 31,
     "metadata": {},
     "output_type": "execute_result"
    }
   ],
   "source": [
    "from sklearn.ensemble import VotingClassifier\n",
    "\n",
    "base_classifiers = [('Logistic Regression', LogisticRegression()),\n",
    "                    ('SVM', SVC(probability = True)),\n",
    "                    ('DT', DecisionTreeClassifier())]\n",
    "\n",
    "clf_vot = VotingClassifier(estimators=base_classifiers, \n",
    "                            voting='soft',\n",
    "                            weights=[3, 2, 1]) \n",
    "clf_vot = Pipeline([('vect', tfidf),\n",
    "                ('clf', clf_vot)])\n",
    "clf_vot.fit(X_train, y_train)"
   ]
  },
  {
   "cell_type": "code",
   "execution_count": 33,
   "metadata": {},
   "outputs": [
    {
     "name": "stdout",
     "output_type": "stream",
     "text": [
      "accuracy: 0.9842696629213483\n",
      "confusion matrix:\n",
      " [[88  1  1  0  0]\n",
      " [ 0 91  1  0  0]\n",
      " [ 2  0 83  0  0]\n",
      " [ 1  0  0 98  0]\n",
      " [ 0  0  1  0 78]]\n",
      "classification report:\n",
      "                precision    recall  f1-score   support\n",
      "\n",
      "     business       0.97      0.98      0.97        90\n",
      "entertainment       0.99      0.99      0.99        92\n",
      "     politics       0.97      0.98      0.97        85\n",
      "        sport       1.00      0.99      0.99        99\n",
      "         tech       1.00      0.99      0.99        79\n",
      "\n",
      "     accuracy                           0.98       445\n",
      "    macro avg       0.98      0.98      0.98       445\n",
      " weighted avg       0.98      0.98      0.98       445\n",
      "\n"
     ]
    }
   ],
   "source": [
    "predictions = clf_vot.predict(X_test)\n",
    "print('accuracy:',accuracy_score(y_test,predictions))\n",
    "print('confusion matrix:\\n',confusion_matrix(y_test,predictions))\n",
    "print('classification report:\\n',classification_report(y_test,predictions))"
   ]
  },
  {
   "cell_type": "code",
   "execution_count": null,
   "metadata": {},
   "outputs": [],
   "source": []
  }
 ],
 "metadata": {
  "colab": {
   "collapsed_sections": [],
   "name": "Weekly-Project-BBC Articles.ipynb",
   "provenance": []
  },
  "kernelspec": {
   "display_name": "Python 3",
   "language": "python",
   "name": "python3"
  },
  "language_info": {
   "codemirror_mode": {
    "name": "ipython",
    "version": 3
   },
   "file_extension": ".py",
   "mimetype": "text/x-python",
   "name": "python",
   "nbconvert_exporter": "python",
   "pygments_lexer": "ipython3",
   "version": "3.6.12"
  }
 },
 "nbformat": 4,
 "nbformat_minor": 1
}

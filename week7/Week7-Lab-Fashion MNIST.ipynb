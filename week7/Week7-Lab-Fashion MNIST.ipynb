{
 "cells": [
  {
   "cell_type": "markdown",
   "metadata": {
    "colab_type": "text",
    "id": "cMAAQi6MWmQO"
   },
   "source": [
    "# Fashion MNIST"
   ]
  },
  {
   "cell_type": "markdown",
   "metadata": {
    "colab_type": "text",
    "id": "O9yM2ZZ3Wo4s"
   },
   "source": [
    "[Fashion-MNIST](https://github.com/zalandoresearch/fashion-mnist) can be used as drop-in replacement for the original MNIST dataset (10 categories of handwritten digits). It shares the same image size (28x28) and structure of training (60,000) and testing (10,000) splits. The class labels are:\n",
    "\n",
    "| Label|\tDescription|\n",
    "|-|-|\n",
    "|0|\tT-shirt/top|\n",
    "|1|\tTrouser|\n",
    "|2|\tPullover|\n",
    "|3|\tDress|\n",
    "|4|\tCoat|\n",
    "|5|\tSandal|\n",
    "|6|\tShirt|\n",
    "|7|\tSneaker|\n",
    "|8|\tBag|\n",
    "|9|\tAnkle boot|\n",
    "\n",
    "**Example**\n",
    "\n",
    "<img src=\"https://github.com/zalandoresearch/fashion-mnist/raw/master/doc/img/fashion-mnist-sprite.png\" width=\"50%\"/>"
   ]
  },
  {
   "cell_type": "markdown",
   "metadata": {
    "colab_type": "text",
    "id": "6f-IZS9EXsz3"
   },
   "source": [
    "In this notebook, you need to train a classical ML model (no deep learning) to reach the highest accruracy score. Please follow the ML project checklist and make sure you organize your code well.\n",
    "\n",
    "**Expected Accuracy Score: >89%**\n",
    "\n",
    "**Submission:** share your notebook to instructors, and prepare your presentation on the next Monday morning."
   ]
  },
  {
   "cell_type": "markdown",
   "metadata": {
    "colab_type": "text",
    "id": "wjwWygY2Yb5O"
   },
   "source": [
    "## Get Data"
   ]
  },
  {
   "cell_type": "code",
   "execution_count": 2,
   "metadata": {
    "colab": {
     "base_uri": "https://localhost:8080/",
     "height": 71
    },
    "colab_type": "code",
    "executionInfo": {
     "elapsed": 828,
     "status": "ok",
     "timestamp": 1593237965665,
     "user": {
      "displayName": "Minh Do",
      "photoUrl": "https://lh3.googleusercontent.com/a-/AOh14GhnQ6aJ2YnaevyJzhii-qGws6Y17w-cwWLqF5iP=s64",
      "userId": "12822549848477954436"
     },
     "user_tz": -420
    },
    "id": "8M6UtIsNYHD-",
    "outputId": "3022d5b8-20a9-4180-cd45-4a9eaba7e21c"
   },
   "outputs": [],
   "source": [
    "import numpy as np\n",
    "import pandas as pd\n",
    "import seaborn as sns\n",
    "import matplotlib.pyplot as plt\n",
    "%matplotlib inline\n",
    "\n",
    "import warnings\n",
    "warnings.filterwarnings('ignore')\n",
    "\n",
    "sns.set_style(\"whitegrid\")"
   ]
  },
  {
   "cell_type": "code",
   "execution_count": 3,
   "metadata": {
    "colab": {
     "base_uri": "https://localhost:8080/",
     "height": 51
    },
    "colab_type": "code",
    "executionInfo": {
     "elapsed": 1063,
     "status": "ok",
     "timestamp": 1593238033922,
     "user": {
      "displayName": "Minh Do",
      "photoUrl": "https://lh3.googleusercontent.com/a-/AOh14GhnQ6aJ2YnaevyJzhii-qGws6Y17w-cwWLqF5iP=s64",
      "userId": "12822549848477954436"
     },
     "user_tz": -420
    },
    "id": "pP-beUnqWlFk",
    "outputId": "964182b0-5460-4133-b9c3-fd278e372a24"
   },
   "outputs": [
    {
     "name": "stdout",
     "output_type": "stream",
     "text": [
      "Training data: (60000, 28, 28) (60000,)\n",
      "Test data: (10000, 28, 28) (10000,)\n"
     ]
    }
   ],
   "source": [
    "from tensorflow.keras.datasets import fashion_mnist\n",
    "\n",
    "(X_train, y_train), (X_test, y_test) = fashion_mnist.load_data()\n",
    "\n",
    "print('Training data:', X_train.shape, y_train.shape)\n",
    "print('Test data:', X_test.shape, y_test.shape)"
   ]
  },
  {
   "cell_type": "code",
   "execution_count": 4,
   "metadata": {
    "colab": {},
    "colab_type": "code",
    "id": "3M3CRemzYlIO"
   },
   "outputs": [
    {
     "name": "stdout",
     "output_type": "stream",
     "text": [
      "(60000, 784) (10000, 784)\n"
     ]
    }
   ],
   "source": [
    "# Your code here\n",
    "X_train_new = X_train.reshape(-1,784) \n",
    "X_test_new = X_test.reshape(-1,784) \n",
    "y_train_new = y_train.reshape(-1,1)\n",
    "y_test_new = y_test.reshape(-1,1)\n",
    "print(X_train_new.shape,X_test_new.shape)"
   ]
  },
  {
   "cell_type": "code",
   "execution_count": 5,
   "metadata": {},
   "outputs": [],
   "source": [
    "from sklearn.tree import DecisionTreeClassifier\n",
    "from sklearn.ensemble import RandomForestClassifier,VotingClassifier\n",
    "from sklearn.linear_model import LogisticRegression\n",
    "from sklearn.naive_bayes import GaussianNB\n",
    "from sklearn.ensemble import BaggingClassifier, AdaBoostClassifier, GradientBoostingClassifier\n",
    "from sklearn.svm import SVC\n",
    "from lightgbm import LGBMClassifier\n",
    "\n",
    "\n",
    "from sklearn.metrics import classification_report, accuracy_score"
   ]
  },
  {
   "cell_type": "code",
   "execution_count": 6,
   "metadata": {},
   "outputs": [],
   "source": [
    "import time\n",
    "\n",
    "dict_model1 = {'logistic': LogisticRegression(),\n",
    "              'decisiontree': DecisionTreeClassifier(),\n",
    "              'randomforest': RandomForestClassifier(),\n",
    "              'GaussianNB' : GaussianNB(),\n",
    "              'BaggingClassifier' : BaggingClassifier(),\n",
    "              'AdaBoostClassifier' : AdaBoostClassifier()}\n",
    "dict_model2 = {'SVC' : SVC(),\n",
    "              'LGBMClassifier' : LGBMClassifier()}"
   ]
  },
  {
   "cell_type": "code",
   "execution_count": 7,
   "metadata": {},
   "outputs": [
    {
     "name": "stdout",
     "output_type": "stream",
     "text": [
      "Training time: 0m 37s\n",
      "Predict train time: 0m 37s\n",
      "Predict test time: 0m 37s\n",
      "\n",
      "Train acc of logistic:  0.8632\n",
      "Test acc of logistic:  0.8412\n",
      "===========================\n",
      "\n",
      "Training time: 0m 46s\n",
      "Predict train time: 0m 46s\n",
      "Predict test time: 0m 46s\n",
      "\n",
      "Train acc of decisiontree:  1.0\n",
      "Test acc of decisiontree:  0.7917\n",
      "===========================\n",
      "\n",
      "Training time: 1m 33s\n",
      "Predict train time: 1m 36s\n",
      "Predict test time: 1m 36s\n",
      "\n",
      "Train acc of randomforest:  1.0\n",
      "Test acc of randomforest:  0.875\n",
      "===========================\n",
      "\n",
      "Training time: 0m 1s\n",
      "Predict train time: 0m 5s\n",
      "Predict test time: 0m 6s\n",
      "\n",
      "Train acc of GaussianNB:  0.5877833333333333\n",
      "Test acc of GaussianNB:  0.5856\n",
      "===========================\n",
      "\n",
      "Training time: 5m 3s\n",
      "Predict train time: 5m 8s\n",
      "Predict test time: 5m 8s\n",
      "\n",
      "Train acc of BaggingClassifier:  0.9946666666666667\n",
      "Test acc of BaggingClassifier:  0.8546\n",
      "===========================\n",
      "\n",
      "Training time: 2m 8s\n",
      "Predict train time: 2m 14s\n",
      "Predict test time: 2m 15s\n",
      "\n",
      "Train acc of AdaBoostClassifier:  0.5496333333333333\n",
      "Test acc of AdaBoostClassifier:  0.5425\n",
      "===========================\n",
      "\n"
     ]
    }
   ],
   "source": [
    "for key in dict_model1:\n",
    "    start = time.time()\n",
    "    \n",
    "    model = dict_model1[key].fit(X_train_new, y_train_new)\n",
    "    m, s = divmod(time.time() - start, 60)\n",
    "    print(f'Training time: {m:.0f}m {s:.0f}s')\n",
    "    \n",
    "    y_train_pred = model.predict(X_train_new)\n",
    "    m, s = divmod(time.time() - start, 60)\n",
    "    print(f'Predict train time: {m:.0f}m {s:.0f}s')\n",
    "    \n",
    "        \n",
    "    y_test_pred = model.predict(X_test_new)\n",
    "    m, s = divmod(time.time() - start, 60)\n",
    "    print(f'Predict test time: {m:.0f}m {s:.0f}s\\n')\n",
    "    \n",
    "    print(f'Train acc of {key}: ', accuracy_score(y_train_new, y_train_pred))\n",
    "    print(f'Test acc of {key}: ', accuracy_score(y_test_new, y_test_pred))\n",
    "\n",
    "    print('===========================\\n')"
   ]
  },
  {
   "cell_type": "code",
   "execution_count": 7,
   "metadata": {},
   "outputs": [
    {
     "name": "stdout",
     "output_type": "stream",
     "text": [
      "Training time: 9m 5s\n",
      "Predict train time: 31m 0s\n",
      "Predict test time: 34m 35s\n",
      "\n",
      "Train acc of SVC:  0.9128\n",
      "Test acc of SVC:  0.8828\n",
      "===========================\n",
      "\n",
      "Training time: 4m 18s\n",
      "Predict train time: 4m 21s\n",
      "Predict test time: 4m 21s\n",
      "\n",
      "Train acc of LGBMClassifier:  0.99085\n",
      "Test acc of LGBMClassifier:  0.8941\n",
      "===========================\n",
      "\n"
     ]
    }
   ],
   "source": [
    "for key in dict_model2:\n",
    "    start = time.time()\n",
    "    \n",
    "    model = dict_model2[key].fit(X_train_new, y_train_new)\n",
    "    m, s = divmod(time.time() - start, 60)\n",
    "    print(f'Training time: {m:.0f}m {s:.0f}s')\n",
    "    \n",
    "    y_train_pred = model.predict(X_train_new)\n",
    "    m, s = divmod(time.time() - start, 60)\n",
    "    print(f'Predict train time: {m:.0f}m {s:.0f}s')\n",
    "    \n",
    "    y_test_pred = model.predict(X_test_new)\n",
    "    m, s = divmod(time.time() - start, 60)\n",
    "    print(f'Predict test time: {m:.0f}m {s:.0f}s\\n')\n",
    "    \n",
    "    print(f'Train acc of {key}: ', accuracy_score(y_train_new, y_train_pred))\n",
    "    print(f'Test acc of {key}: ', accuracy_score(y_test_new, y_test_pred))\n",
    "\n",
    "    print('===========================\\n')"
   ]
  },
  {
   "cell_type": "code",
   "execution_count": 10,
   "metadata": {},
   "outputs": [
    {
     "name": "stdout",
     "output_type": "stream",
     "text": [
      "Training time: 27m 6s\n",
      "Predict train time: 27m 47s\n",
      "Predict test time: 27m 55s\n",
      "\n",
      "Train acc of LGBMClassifier:  1.0\n",
      "Test acc of LGBMClassifier:  0.9105\n"
     ]
    }
   ],
   "source": [
    "clf = LGBMClassifier(n_estimators=1000)\n",
    "\n",
    "start = time.time()\n",
    "clf.fit(X_train_new, y_train_new)\n",
    "m, s = divmod(time.time() - start, 60)\n",
    "print(f'Training time: {m:.0f}m {s:.0f}s')\n",
    "\n",
    "y_train_pred = clf.predict(X_train_new)\n",
    "m, s = divmod(time.time() - start, 60)\n",
    "print(f'Predict train time: {m:.0f}m {s:.0f}s')\n",
    "    \n",
    "y_test_pred = clf.predict(X_test_new)\n",
    "m, s = divmod(time.time() - start, 60)\n",
    "print(f'Predict test time: {m:.0f}m {s:.0f}s\\n')\n",
    "    \n",
    "print(f'Train acc of {key}: ', accuracy_score(y_train_new, y_train_pred))\n",
    "print(f'Test acc of {key}: ', accuracy_score(y_test_new, y_test_pred))"
   ]
  },
  {
   "cell_type": "code",
   "execution_count": null,
   "metadata": {},
   "outputs": [],
   "source": []
  }
 ],
 "metadata": {
  "colab": {
   "collapsed_sections": [],
   "name": "Week7-Lab-Fashion MNIST.ipynb",
   "provenance": []
  },
  "kernelspec": {
   "display_name": "Python 3",
   "language": "python",
   "name": "python3"
  },
  "language_info": {
   "codemirror_mode": {
    "name": "ipython",
    "version": 3
   },
   "file_extension": ".py",
   "mimetype": "text/x-python",
   "name": "python",
   "nbconvert_exporter": "python",
   "pygments_lexer": "ipython3",
   "version": "3.6.12"
  }
 },
 "nbformat": 4,
 "nbformat_minor": 1
}
